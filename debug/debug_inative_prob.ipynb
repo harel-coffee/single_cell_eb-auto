{
 "cells": [
  {
   "cell_type": "code",
   "execution_count": 1,
   "metadata": {},
   "outputs": [
    {
     "name": "stderr",
     "output_type": "stream",
     "text": [
      "/home/martin/anaconda3/lib/python3.6/site-packages/h5py/__init__.py:34: FutureWarning: Conversion of the second argument of issubdtype from `float` to `np.floating` is deprecated. In future, it will be treated as `np.float64 == np.dtype(float).type`.\n",
      "  from ._conv import register_converters as _register_converters\n"
     ]
    }
   ],
   "source": [
    "import numpy as np\n",
    "import scipy as sp\n",
    "import matplotlib.pyplot as plt\n",
    "import matplotlib.cm as cm\n",
    "import pandas as pd\n",
    "import h5py\n",
    "import time\n",
    "import pickle\n",
    "\n",
    "\n",
    "import scanpy.api as sc\n",
    "import sceb.data_loader as dl\n",
    "import sceb.scdd as sd\n",
    "from sceb.util import *\n",
    "\n",
    "%load_ext autoreload\n",
    "%autoreload 2"
   ]
  },
  {
   "cell_type": "code",
   "execution_count": 68,
   "metadata": {},
   "outputs": [
    {
     "name": "stdout",
     "output_type": "stream",
     "text": [
      "Variable names are not unique. To make them unique, call `.var_names_make_unique`.\n"
     ]
    }
   ],
   "source": [
    "## toy example from 4k \n",
    "data = dl.load_10x_4k()\n",
    "mean_count = np.array(data.X.mean(axis=0)).reshape(-1)\n",
    "sort_idx = np.argsort(mean_count)[::-1]\n",
    "\n",
    "marker_gene_dic={}\n",
    "marker_gene_dic['T-cells']= ['IL7R','CD3G','CD3E','CD3D','LCK']\n",
    "marker_gene_dic['NK-cells']= ['NKG7','PRF1','KLRD1','GZMA','HOPX','CST7']\n",
    "marker_gene_dic['B-cells']= ['CD79A','BANK1','IGHD','LINC00926','MS4A1']\n",
    "marker_gene_dic['myeloid']= ['S100A8','S100A9']\n",
    "marker_gene_dic['Innate Immunity']= ['MNDA','FGL2','CLEC7A','CD6S','IFI30']\n",
    "marker_gene_dic['HSC']= ['CD34','GATA2','PRSS57','SMIM24','CYTL1']\n",
    "\n",
    "gene_list = []\n",
    "for key_ in marker_gene_dic.keys():\n",
    "    for gene in marker_gene_dic[key_]:\n",
    "        if gene in data.var_names:\n",
    "            if data[:,gene].X.mean()>0.5:\n",
    "                gene_list.append(gene)\n",
    "G = len(gene_list)\n",
    "\n",
    "Y = np.array(data[:,gene_list].X.todense()).astype(dtype=int)\n"
   ]
  },
  {
   "cell_type": "code",
   "execution_count": 69,
   "metadata": {
    "collapsed": true
   },
   "outputs": [],
   "source": [
    "\n",
    "p_true = np.ones([Y.shape[0]])\n",
    "p_true = p_true / np.sum(p_true)\n",
    "\n",
    "## Making each column of x to have the same mean \n",
    "x_true = Y / Y.mean(axis=0)\n",
    "x_true = x_true.clip(max=np.percentile(x_true,99.9))\n",
    "x_true = x_true/x_true.mean(axis=0)\n",
    "x_true = x_true/x_true.sum()*Y.shape[0]\n",
    "\n",
    "## calculate the related quantities\n",
    "\n",
    "kappa = 1*G\n",
    "temp = np.exp(-kappa*x_true)\n",
    "inactive_true = np.mean(temp,axis=0)"
   ]
  },
  {
   "cell_type": "code",
   "execution_count": 76,
   "metadata": {},
   "outputs": [
    {
     "name": "stdout",
     "output_type": "stream",
     "text": [
      "## Nr=70\n",
      "max 152.0\n",
      "relative depth=5.0000\n",
      "-5.0301276719149515\n",
      "[ 0.00174211  0.0025752   0.00165316 -0.00086123 -0.00101834 -0.00130779\n",
      " -0.00196834 -0.00261531 -0.00050369  0.00089386 -0.00381493 -0.00431522\n",
      " -0.00285633  0.00076344]\n",
      "\n",
      "## Nr=140\n",
      "max 288.0\n",
      "relative depth=10.0000\n",
      "-4.456785510826151\n",
      "[ 0.0063921   0.00659681  0.00824765  0.0073807   0.0058104   0.00102944\n",
      "  0.00015683 -0.00066176  0.00146555  0.00193245  0.00010354  0.00096661\n",
      " -0.00060435  0.00333609]\n",
      "\n"
     ]
    }
   ],
   "source": [
    "Nc = 30000\n",
    "\n",
    "for Nr in [5*G,10*G]:\n",
    "    print('## Nr=%d'%Nr)\n",
    "    data,size_factor = dl.poi_data_gen_nd(p_true,x_true,Nc=Nc,Nr=Nr,random_seed=0)\n",
    "    print('max',np.max(data.X.todense()))\n",
    "    p0_ml,p0_dd = sd.dd_inactive_prob(data,relative_depth=Nr/kappa,size_factor=size_factor,verbose=False)\n",
    "    print('relative depth=%0.4f'%(Nr/kappa))\n",
    "    err_dd = np.log10(np.mean((p0_dd-inactive_true)**2)) - np.log10(np.mean(inactive_true**2))\n",
    "    print(err_dd.mean())\n",
    "    print(p0_dd-inactive_true)\n",
    "    print('')"
   ]
  },
  {
   "cell_type": "code",
   "execution_count": null,
   "metadata": {
    "collapsed": true
   },
   "outputs": [],
   "source": []
  }
 ],
 "metadata": {
  "kernelspec": {
   "display_name": "Python 3",
   "language": "python",
   "name": "python3"
  },
  "language_info": {
   "codemirror_mode": {
    "name": "ipython",
    "version": 3
   },
   "file_extension": ".py",
   "mimetype": "text/x-python",
   "name": "python",
   "nbconvert_exporter": "python",
   "pygments_lexer": "ipython3",
   "version": "3.6.3"
  }
 },
 "nbformat": 4,
 "nbformat_minor": 2
}
