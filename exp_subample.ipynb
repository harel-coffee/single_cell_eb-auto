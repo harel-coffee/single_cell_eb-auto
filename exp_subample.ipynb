{
 "cells": [
  {
   "cell_type": "code",
   "execution_count": 1,
   "metadata": {},
   "outputs": [
    {
     "name": "stderr",
     "output_type": "stream",
     "text": [
      "/home/martin/anaconda3/lib/python3.6/site-packages/h5py/__init__.py:34: FutureWarning: Conversion of the second argument of issubdtype from `float` to `np.floating` is deprecated. In future, it will be treated as `np.float64 == np.dtype(float).type`.\n",
      "  from ._conv import register_converters as _register_converters\n"
     ]
    }
   ],
   "source": [
    "import numpy as np\n",
    "import scipy as sp\n",
    "import matplotlib.pyplot as plt\n",
    "import matplotlib.cm as cm\n",
    "import scanpy.api as sc\n",
    "import pandas as pd\n",
    "import h5py\n",
    "import os\n",
    "import time\n",
    "import itertools\n",
    "\n",
    "from util import *\n",
    "from data_loader import * \n",
    "import scdd as sd\n",
    "import dist_deconv_1d as dd1d\n",
    "\n",
    "%matplotlib inline\n",
    "%load_ext autoreload\n",
    "%autoreload 2"
   ]
  },
  {
   "cell_type": "markdown",
   "metadata": {},
   "source": [
    "### Subsample experiments "
   ]
  },
  {
   "cell_type": "code",
   "execution_count": 2,
   "metadata": {
    "collapsed": true
   },
   "outputs": [],
   "source": [
    "## run these few lines only for the first time \n",
    "data_13m = load_10x_1_3mil()\n",
    "sc.pp.filter_genes(data_13m,min_counts=10*data_13m.shape[0])\n",
    "data_13m.write(filename='/data/martin/exp_sceb/subsample_1.3mil/data_1.3mil_high10_gene.h5ad')"
   ]
  },
  {
   "cell_type": "code",
   "execution_count": 2,
   "metadata": {
    "collapsed": true
   },
   "outputs": [],
   "source": [
    "## run this line to load the filtered data\n",
    "data = load_10x_1_3mil_subsample()"
   ]
  },
  {
   "cell_type": "code",
   "execution_count": 8,
   "metadata": {},
   "outputs": [
    {
     "name": "stdout",
     "output_type": "stream",
     "text": [
      "Budget = 1650557568, G = 72, Nc = 1306127, Nr = 1263.70, Nr_bar = 17.55\n"
     ]
    }
   ],
   "source": [
    "Nc,G = data.shape\n",
    "Nr = data.X.sum()/Nc\n",
    "B = Nc*Nr\n",
    "Nr_bar = Nr/G\n",
    "print('Budget = %d, G = %d, Nc = %d, Nr = %0.2f, Nr_bar = %0.2f'%(B,G,Nc,Nr,Nr_bar))"
   ]
  },
  {
   "cell_type": "code",
   "execution_count": 16,
   "metadata": {
    "collapsed": true
   },
   "outputs": [],
   "source": [
    "B_sub_list = [int(B/10000),int(B/5000),int(B/2000),int(B/1000)]\n",
    "param=[]    # a tuple of (B,Nr_bar,Nr,Nc)\n",
    "rep_time = 10\n",
    "for B_sub in B_sub_list:\n",
    "    for Nr_bar in [0.5,1,2,3,4,5,8,10]:\n",
    "        for i_rep in range(rep_time): \n",
    "            param.append((B_sub,Nr_bar,Nr_bar*G,int(B_sub/Nr_bar/G),i_rep))"
   ]
  },
  {
   "cell_type": "code",
   "execution_count": null,
   "metadata": {
    "collapsed": true
   },
   "outputs": [],
   "source": []
  },
  {
   "cell_type": "code",
   "execution_count": 26,
   "metadata": {
    "scrolled": true
   },
   "outputs": [
    {
     "name": "stdout",
     "output_type": "stream",
     "text": [
      "165055_0.5_36.0_4584_0\n",
      "165055_0.5_36.0_4584_1\n"
     ]
    }
   ],
   "source": [
    "# data_subsamp = {}\n",
    "# for i in range(len(param)):\n",
    "output_folder = '/data/martin/exp_sceb/subsample_1.3mil/subsampled_data'\n",
    "\n",
    "for i in range(2):\n",
    "    B_sub,Nr_bar_,Nr_,Nc_,i_rep = param[i]\n",
    "    temp_str = '%d_%0.1f_%0.1f_%d_%d'%(param[i])\n",
    "    print(temp_str)\n",
    "    temp = sd.subsamp_anndata(data,Nr_,Nc_,verbose=False)\n",
    "    temp.write(filename=output_folder+'/data_'+temp_str+'.h5ad')"
   ]
  },
  {
   "cell_type": "code",
   "execution_count": 3,
   "metadata": {},
   "outputs": [
    {
     "data": {
      "text/plain": [
       "AnnData object with n_obs × n_vars = 1306127 × 72 \n",
       "    var_keys = ['gene_ids', 'n_counts']"
      ]
     },
     "execution_count": 3,
     "metadata": {},
     "output_type": "execute_result"
    }
   ],
   "source": [
    "data"
   ]
  },
  {
   "cell_type": "code",
   "execution_count": null,
   "metadata": {
    "collapsed": true
   },
   "outputs": [],
   "source": []
  }
 ],
 "metadata": {
  "kernelspec": {
   "display_name": "Python 3",
   "language": "python",
   "name": "python3"
  },
  "language_info": {
   "codemirror_mode": {
    "name": "ipython",
    "version": 3
   },
   "file_extension": ".py",
   "mimetype": "text/x-python",
   "name": "python",
   "nbconvert_exporter": "python",
   "pygments_lexer": "ipython3",
   "version": "3.6.3"
  }
 },
 "nbformat": 4,
 "nbformat_minor": 2
}
