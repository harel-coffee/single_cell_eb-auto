{
 "cells": [
  {
   "cell_type": "code",
   "execution_count": 1,
   "metadata": {
    "collapsed": true
   },
   "outputs": [],
   "source": [
    "import numpy as np\n",
    "import scipy as sp\n",
    "import matplotlib.pyplot as plt\n",
    "import matplotlib.cm as cm\n",
    "import pandas as pd\n",
    "import h5py\n",
    "import cvxpy as cvx\n",
    "import os\n",
    "\n",
    "from data_loader import *\n",
    "# from util import *\n",
    "# from module_decov import *\n",
    "\n",
    "%matplotlib inline\n",
    "%load_ext autoreload\n",
    "%autoreload 2"
   ]
  },
  {
   "cell_type": "markdown",
   "metadata": {},
   "source": [
    "**Test data loader**"
   ]
  },
  {
   "cell_type": "code",
   "execution_count": 7,
   "metadata": {
    "scrolled": true
   },
   "outputs": [
    {
     "name": "stdout",
     "output_type": "stream",
     "text": [
      "(0, ['tissue', 'sscortex', 'sscortex'], ['ca1hippocampus', 'sscortex'], 3006)\n",
      "(1, ['group #', '1', '1'], ['9', '9'], 3006)\n",
      "(2, ['total mRNA mol', '21580', '21748'], ['2896', '4460'], 3006)\n",
      "(3, ['well', '11', '95'], ['89', '22'], 3006)\n",
      "(4, ['sex', '1', '-1'], ['-1', '1'], 3006)\n",
      "(5, ['age', '21', '20'], ['26', '26'], 3006)\n",
      "(6, ['diameter', '0', '9.56'], ['9.23', '10.4'], 3006)\n",
      "(7, ['(none)', 'cell_id', '1772071015_C02'], ['1772066098_A12', '1772058148_F03'], 3007)\n",
      "(8, ['(none)', 'level1class', 'interneurons'], ['endothelial-mural', 'endothelial-mural'], 3007)\n",
      "(9, ['(none)', 'level2class', 'Int10'], ['Vsmc', 'Vsmc'], 3007)\n",
      "('diameter', 3005, array([  0.  ,   9.56,  11.1 ,  11.7 ,  11.  ]))\n",
      "('cell_id', 3005, array(['1772071015_C02', '1772071017_G12', '1772071017_A05',\n",
      "       '1772071014_B06', '1772067065_H06'],\n",
      "      dtype='|S14'))\n",
      "('age', 3005, array([ 21.,  20.,  20.,  21.,  25.]))\n",
      "('well', 3005, array([ 11.,  95.,  33.,  42.,  48.]))\n",
      "('group #', 3005, array([ 1.,  1.,  1.,  1.,  1.]))\n",
      "('sex', 3005, array([ 1., -1., -1.,  1.,  1.]))\n",
      "('tissue', 3005, array(['sscortex', 'sscortex', 'sscortex', 'sscortex', 'sscortex'],\n",
      "      dtype='|S14'))\n",
      "('total mRNA mol', 3005, array([ 21580.,  21748.,  31642.,  32916.,  21531.]))\n",
      "('level2class', 3005, array(['Int10', 'Int10', 'Int6', 'Int10', 'Int9'],\n",
      "      dtype='|S9'))\n",
      "('level1class', 3005, array(['interneurons', 'interneurons', 'interneurons', 'interneurons',\n",
      "       'interneurons'],\n",
      "      dtype='|S20'))\n",
      "###### Summary ######\n",
      "GC matrix:  (3005, 19972)\n",
      "number of genes: 19972\n",
      "number of clusters: 1\n",
      "###### End Summary ######\n"
     ]
    }
   ],
   "source": [
    "X,X_label,gene_name=load_Zeisel()"
   ]
  },
  {
   "cell_type": "code",
   "execution_count": 10,
   "metadata": {},
   "outputs": [
    {
     "ename": "IOError",
     "evalue": "[Errno 2] No such file or directory: '/home/martin/single_cell_eb/data/10x_1.3mil_mice_brain/analysis/clustering/graphclust/clusters.csv'",
     "output_type": "error",
     "traceback": [
      "\u001b[0;31m---------------------------------------------------------------------------\u001b[0m",
      "\u001b[0;31mIOError\u001b[0m                                   Traceback (most recent call last)",
      "\u001b[0;32m<ipython-input-10-1a5542e43e7f>\u001b[0m in \u001b[0;36m<module>\u001b[0;34m()\u001b[0m\n\u001b[0;32m----> 1\u001b[0;31m \u001b[0mX\u001b[0m\u001b[0;34m,\u001b[0m\u001b[0mX_label\u001b[0m\u001b[0;34m,\u001b[0m\u001b[0mgene_name\u001b[0m\u001b[0;34m=\u001b[0m\u001b[0mload_10x\u001b[0m\u001b[0;34m(\u001b[0m\u001b[0;34m)\u001b[0m\u001b[0;34m\u001b[0m\u001b[0m\n\u001b[0m",
      "\u001b[0;32m/home/martin/single_cell_eb/data_loader.py\u001b[0m in \u001b[0;36mload_10x\u001b[0;34m()\u001b[0m\n\u001b[1;32m     57\u001b[0m     \u001b[0mX_label\u001b[0m\u001b[0;34m=\u001b[0m\u001b[0mnp\u001b[0m\u001b[0;34m.\u001b[0m\u001b[0mzeros\u001b[0m\u001b[0;34m(\u001b[0m\u001b[0mlen\u001b[0m\u001b[0;34m(\u001b[0m\u001b[0mbarcodes\u001b[0m\u001b[0;34m)\u001b[0m\u001b[0;34m,\u001b[0m\u001b[0mdtype\u001b[0m\u001b[0;34m=\u001b[0m\u001b[0mint\u001b[0m\u001b[0;34m)\u001b[0m\u001b[0;34m\u001b[0m\u001b[0m\n\u001b[1;32m     58\u001b[0m     \u001b[0mct\u001b[0m\u001b[0;34m=\u001b[0m\u001b[0;36m0\u001b[0m\u001b[0;34m\u001b[0m\u001b[0m\n\u001b[0;32m---> 59\u001b[0;31m     \u001b[0;32mwith\u001b[0m \u001b[0mopen\u001b[0m\u001b[0;34m(\u001b[0m\u001b[0mfil_cluster_path\u001b[0m\u001b[0;34m)\u001b[0m \u001b[0;32mas\u001b[0m \u001b[0mf\u001b[0m\u001b[0;34m:\u001b[0m\u001b[0;34m\u001b[0m\u001b[0m\n\u001b[0m\u001b[1;32m     60\u001b[0m         \u001b[0;32mfor\u001b[0m \u001b[0mline\u001b[0m \u001b[0;32min\u001b[0m \u001b[0mf\u001b[0m\u001b[0;34m:\u001b[0m\u001b[0;34m\u001b[0m\u001b[0m\n\u001b[1;32m     61\u001b[0m             \u001b[0mline\u001b[0m\u001b[0;34m=\u001b[0m\u001b[0mline\u001b[0m\u001b[0;34m.\u001b[0m\u001b[0mstrip\u001b[0m\u001b[0;34m(\u001b[0m\u001b[0;34m)\u001b[0m\u001b[0;34m.\u001b[0m\u001b[0msplit\u001b[0m\u001b[0;34m(\u001b[0m\u001b[0;34m','\u001b[0m\u001b[0;34m)\u001b[0m\u001b[0;34m\u001b[0m\u001b[0m\n",
      "\u001b[0;31mIOError\u001b[0m: [Errno 2] No such file or directory: '/home/martin/single_cell_eb/data/10x_1.3mil_mice_brain/analysis/clustering/graphclust/clusters.csv'"
     ]
    }
   ],
   "source": [
    "X,X_label,gene_name=load_10x()"
   ]
  },
  {
   "cell_type": "code",
   "execution_count": null,
   "metadata": {
    "collapsed": true
   },
   "outputs": [],
   "source": []
  }
 ],
 "metadata": {
  "kernelspec": {
   "display_name": "Python 2",
   "language": "python",
   "name": "python2"
  },
  "language_info": {
   "codemirror_mode": {
    "name": "ipython",
    "version": 2
   },
   "file_extension": ".py",
   "mimetype": "text/x-python",
   "name": "python",
   "nbconvert_exporter": "python",
   "pygments_lexer": "ipython2",
   "version": "2.7.14"
  }
 },
 "nbformat": 4,
 "nbformat_minor": 2
}
