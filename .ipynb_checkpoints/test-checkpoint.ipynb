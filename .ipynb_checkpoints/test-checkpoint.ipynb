{
 "cells": [
  {
   "cell_type": "code",
   "execution_count": 1,
   "metadata": {
    "collapsed": true
   },
   "outputs": [],
   "source": [
    "import numpy as np\n",
    "import scipy as sp\n",
    "import matplotlib.pyplot as plt\n",
    "import matplotlib.cm as cm\n",
    "import pandas as pd\n",
    "import h5py\n",
    "import cvxpy as cvx\n",
    "import os\n",
    "\n",
    "from data_loader import *\n",
    "# from util import *\n",
    "# from module_decov import *\n",
    "\n",
    "%matplotlib inline\n",
    "%load_ext autoreload\n",
    "%autoreload 2"
   ]
  },
  {
   "cell_type": "markdown",
   "metadata": {},
   "source": [
    "**Test data loader**"
   ]
  },
  {
   "cell_type": "code",
   "execution_count": 7,
   "metadata": {},
   "outputs": [
    {
     "name": "stdout",
     "output_type": "stream",
     "text": [
      "(0, ['tissue', 'sscortex', 'sscortex'], ['ca1hippocampus', 'sscortex'], 3006)\n",
      "(1, ['group #', '1', '1'], ['9', '9'], 3006)\n",
      "(2, ['total mRNA mol', '21580', '21748'], ['2896', '4460'], 3006)\n",
      "(3, ['well', '11', '95'], ['89', '22'], 3006)\n",
      "(4, ['sex', '1', '-1'], ['-1', '1'], 3006)\n",
      "(5, ['age', '21', '20'], ['26', '26'], 3006)\n",
      "(6, ['diameter', '0', '9.56'], ['9.23', '10.4'], 3006)\n",
      "(7, ['(none)', 'cell_id', '1772071015_C02'], ['1772066098_A12', '1772058148_F03'], 3007)\n",
      "(8, ['(none)', 'level1class', 'interneurons'], ['endothelial-mural', 'endothelial-mural'], 3007)\n",
      "(9, ['(none)', 'level2class', 'Int10'], ['Vsmc', 'Vsmc'], 3007)\n",
      "('diameter', 3005, array([  0.  ,   9.56,  11.1 ,  11.7 ,  11.  ]))\n",
      "('cell_id', 3005, array(['1772071015_C02', '1772071017_G12', '1772071017_A05',\n",
      "       '1772071014_B06', '1772067065_H06'],\n",
      "      dtype='|S14'))\n",
      "('age', 3005, array([ 21.,  20.,  20.,  21.,  25.]))\n",
      "('well', 3005, array([ 11.,  95.,  33.,  42.,  48.]))\n",
      "('group #', 3005, array([ 1.,  1.,  1.,  1.,  1.]))\n",
      "('sex', 3005, array([ 1., -1., -1.,  1.,  1.]))\n",
      "('tissue', 3005, array(['sscortex', 'sscortex', 'sscortex', 'sscortex', 'sscortex'],\n",
      "      dtype='|S14'))\n",
      "('total mRNA mol', 3005, array([ 21580.,  21748.,  31642.,  32916.,  21531.]))\n",
      "('level2class', 3005, array(['Int10', 'Int10', 'Int6', 'Int10', 'Int9'],\n",
      "      dtype='|S9'))\n",
      "('level1class', 3005, array(['interneurons', 'interneurons', 'interneurons', 'interneurons',\n",
      "       'interneurons'],\n",
      "      dtype='|S20'))\n",
      "###### Summary ######\n",
      "GC matrix:  (3005, 19972)\n",
      "number of genes: 19972\n",
      "number of clusters: 1\n",
      "###### End Summary ######\n"
     ]
    }
   ],
   "source": [
    "X,X_label,gene_name=load_Zeisel()"
   ]
  },
  {
   "cell_type": "code",
   "execution_count": 6,
   "metadata": {},
   "outputs": [
    {
     "name": "stdout",
     "output_type": "stream",
     "text": [
      "###### Summry ######\n",
      "GC matrix:  (3005, 19972)\n",
      "number of genes: 19972\n",
      "###### End Summry ######\n"
     ]
    }
   ],
   "source": [
    "X,X_label,gene_name=load_10x()"
   ]
  },
  {
   "cell_type": "code",
   "execution_count": 8,
   "metadata": {},
   "outputs": [
    {
     "data": {
      "text/plain": [
       "array([ {'diameter': array([  0.  ,   9.56,  11.1 , ...,   8.63,   9.23,  10.4 ]), 'cell_id': array(['1772071015_C02', '1772071017_G12', '1772071017_A05', ...,\n",
       "       '1772063068_D01', '1772066098_A12', '1772058148_F03'],\n",
       "      dtype='|S14'), 'age': array([ 21.,  20.,  20., ...,  26.,  26.,  26.]), 'well': array([ 11.,  95.,  33., ...,   4.,  89.,  22.]), 'group #': array([ 1.,  1.,  1., ...,  9.,  9.,  9.]), 'sex': array([ 1., -1., -1., ...,  1., -1.,  1.]), 'tissue': array(['sscortex', 'sscortex', 'sscortex', ..., 'sscortex',\n",
       "       'ca1hippocampus', 'sscortex'],\n",
       "      dtype='|S14'), 'total mRNA mol': array([ 21580.,  21748.,  31642., ...,   4015.,   2896.,   4460.]), 'level2class': array(['Int10', 'Int10', 'Int6', ..., 'Vsmc', 'Vsmc', 'Vsmc'],\n",
       "      dtype='|S9'), 'level1class': array(['interneurons', 'interneurons', 'interneurons', ...,\n",
       "       'endothelial-mural', 'endothelial-mural', 'endothelial-mural'],\n",
       "      dtype='|S20')}], dtype=object)"
      ]
     },
     "execution_count": 8,
     "metadata": {},
     "output_type": "execute_result"
    }
   ],
   "source": [
    "np.unique(X_label)"
   ]
  },
  {
   "cell_type": "code",
   "execution_count": null,
   "metadata": {
    "collapsed": true
   },
   "outputs": [],
   "source": []
  }
 ],
 "metadata": {
  "kernelspec": {
   "display_name": "Python 2",
   "language": "python",
   "name": "python2"
  },
  "language_info": {
   "codemirror_mode": {
    "name": "ipython",
    "version": 2
   },
   "file_extension": ".py",
   "mimetype": "text/x-python",
   "name": "python",
   "nbconvert_exporter": "python",
   "pygments_lexer": "ipython2",
   "version": "2.7.14"
  }
 },
 "nbformat": 4,
 "nbformat_minor": 2
}
