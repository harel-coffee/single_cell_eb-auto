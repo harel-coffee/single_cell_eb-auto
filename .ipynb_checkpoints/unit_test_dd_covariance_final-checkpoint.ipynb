{
 "cells": [
  {
   "cell_type": "code",
   "execution_count": 1,
   "metadata": {},
   "outputs": [
    {
     "name": "stderr",
     "output_type": "stream",
     "text": [
      "/home/martin/anaconda3/lib/python3.6/site-packages/h5py/__init__.py:34: FutureWarning: Conversion of the second argument of issubdtype from `float` to `np.floating` is deprecated. In future, it will be treated as `np.float64 == np.dtype(float).type`.\n",
      "  from ._conv import register_converters as _register_converters\n"
     ]
    }
   ],
   "source": [
    "import time\n",
    "import matplotlib.pyplot as plt\n",
    "import numpy as np\n",
    "import data_loader as dl\n",
    "import scdd as sd\n",
    "\n",
    "%matplotlib inline\n",
    "%load_ext autoreload\n",
    "%autoreload 2"
   ]
  },
  {
   "cell_type": "code",
   "execution_count": 22,
   "metadata": {},
   "outputs": [
    {
     "name": "stdout",
     "output_type": "stream",
     "text": [
      "True mean\n",
      "[0.30696167 0.189635   0.50340333]\n",
      "True cov\n",
      "[[ 0.07190742 -0.03107854 -0.04082888]\n",
      " [-0.03107854  0.06036689 -0.02928835]\n",
      " [-0.04082888 -0.02928835  0.07011723]]\n",
      "True PC\n",
      "[[ 1.         -0.47170922 -0.5750005 ]\n",
      " [-0.47170922  1.         -0.45017682]\n",
      " [-0.5750005  -0.45017682  1.        ]]\n"
     ]
    }
   ],
   "source": [
    "data,X,p0_true,size_factor = dl.load_toy_ann_data()\n",
    "print('True mean')\n",
    "print(np.mean(X,axis=0))\n",
    "print('True cov')\n",
    "print(np.cov(X.T))\n",
    "print('True PC')\n",
    "print(np.corrcoef(X.T))"
   ]
  },
  {
   "cell_type": "code",
   "execution_count": 23,
   "metadata": {},
   "outputs": [
    {
     "name": "stdout",
     "output_type": "stream",
     "text": [
      "#time start: 0.0s\n",
      "n_cell=100000, n_gene=3, Nr=20.0\n",
      "#total: 0.02s\n",
      "#time start: 0.0s\n",
      "n_cell=100000, n_gene=3, Nr=20.0\n",
      "#total: 0.66s\n"
     ]
    }
   ],
   "source": [
    "mean_dd,cov_dd,PC_dd  = sd.dd_covariance(data,size_factor=size_factor)\n",
    "mean_ml,cov_ml,PC_ml  = sd.ml_covariance(data,size_factor=size_factor)"
   ]
  },
  {
   "cell_type": "code",
   "execution_count": 24,
   "metadata": {},
   "outputs": [
    {
     "name": "stdout",
     "output_type": "stream",
     "text": [
      "dd mean\n",
      "[0.01535889 0.00947765 0.02517894]\n",
      "dd cov\n",
      "[[ 0.07196712 -0.03122876 -0.04083251]\n",
      " [-0.03122876  0.06053758 -0.02933587]\n",
      " [-0.04083251 -0.02933587  0.0697341 ]]\n",
      "dd PC\n",
      "[[ 1.         -0.47312422 -0.57638999]\n",
      " [-0.47312422  1.         -0.45150637]\n",
      " [-0.57638999 -0.45150637  1.        ]]\n"
     ]
    }
   ],
   "source": [
    "print('dd mean')\n",
    "print(mean_dd/20)\n",
    "print('dd cov')\n",
    "print(cov_dd)\n",
    "print('dd PC')\n",
    "print(PC_dd)"
   ]
  },
  {
   "cell_type": "code",
   "execution_count": 28,
   "metadata": {},
   "outputs": [
    {
     "name": "stdout",
     "output_type": "stream",
     "text": [
      "ml mean\n",
      "[[0.30691413 0.18946236 0.50320673]]\n",
      "ml cov\n",
      "[[ 0.08760689 -0.03118239 -0.04083653]\n",
      " [-0.03118239  0.070117   -0.02931396]\n",
      " [-0.04083653 -0.02931396  0.09535072]]\n",
      "ml PC\n",
      "[[ 1.         -0.39785843 -0.4468047 ]\n",
      " [-0.39785843  1.         -0.35850967]\n",
      " [-0.4468047  -0.35850967  1.        ]]\n"
     ]
    }
   ],
   "source": [
    "print('ml mean')\n",
    "print(mean_ml)\n",
    "print('ml cov')\n",
    "print(cov_ml)\n",
    "print('ml PC')\n",
    "print(PC_ml)"
   ]
  },
  {
   "cell_type": "code",
   "execution_count": 29,
   "metadata": {},
   "outputs": [
    {
     "name": "stdout",
     "output_type": "stream",
     "text": [
      "mean\n",
      "[[0.32137605 0.19838991 0.52691804]]\n",
      "cov\n",
      "[[ 0.09593848 -0.03414789 -0.04472017]\n",
      " [-0.03414789  0.07678527 -0.03210178]\n",
      " [-0.04472017 -0.03210178  0.10441876]]\n",
      "PC\n",
      "[[ 1.         -0.39785843 -0.4468047 ]\n",
      " [-0.39785843  1.         -0.35850967]\n",
      " [-0.4468047  -0.35850967  1.        ]]\n"
     ]
    }
   ],
   "source": [
    "Nr = data.X.sum()/data.shape[0]\n",
    "Nr=19.1\n",
    "Y = data.X.todense()\n",
    "Y_sf = (Y.T/size_factor).T\n",
    "print('mean')\n",
    "print(Y_sf.mean(axis=0)/Nr)\n",
    "print('cov')\n",
    "print(np.cov(Y_sf.T)/Nr**2)\n",
    "print('PC')\n",
    "print(np.corrcoef(Y_sf.T))\n"
   ]
  },
  {
   "cell_type": "code",
   "execution_count": null,
   "metadata": {
    "collapsed": true
   },
   "outputs": [],
   "source": []
  }
 ],
 "metadata": {
  "kernelspec": {
   "display_name": "Python 3",
   "language": "python",
   "name": "python3"
  },
  "language_info": {
   "codemirror_mode": {
    "name": "ipython",
    "version": 3
   },
   "file_extension": ".py",
   "mimetype": "text/x-python",
   "name": "python",
   "nbconvert_exporter": "python",
   "pygments_lexer": "ipython3",
   "version": "3.6.3"
  }
 },
 "nbformat": 4,
 "nbformat_minor": 2
}
