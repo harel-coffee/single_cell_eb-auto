{
 "cells": [
  {
   "cell_type": "code",
   "execution_count": 14,
   "metadata": {},
   "outputs": [
    {
     "name": "stdout",
     "output_type": "stream",
     "text": [
      "The autoreload extension is already loaded. To reload it, use:\n",
      "  %reload_ext autoreload\n"
     ]
    }
   ],
   "source": [
    "import numpy as np\n",
    "import scipy as sp\n",
    "import matplotlib.pyplot as plt\n",
    "import matplotlib.cm as cm\n",
    "import pandas as pd\n",
    "import h5py\n",
    "import os\n",
    "import time\n",
    "\n",
    "from util import *\n",
    "from data_loader import * \n",
    "import scdd as sd\n",
    "\n",
    "%matplotlib inline\n",
    "%load_ext autoreload\n",
    "%autoreload 2"
   ]
  },
  {
   "cell_type": "code",
   "execution_count": 23,
   "metadata": {},
   "outputs": [
    {
     "name": "stdout",
     "output_type": "stream",
     "text": [
      "Variable names are not unique. To make them unique, call `.var_names_make_unique`.\n"
     ]
    }
   ],
   "source": [
    "data = load_10x_1k()\n",
    "sc.pp.filter_genes(data,min_counts=data.shape[0])\n",
    "gene_list = list(data.var_names)"
   ]
  },
  {
   "cell_type": "markdown",
   "metadata": {},
   "source": [
    "# unit test of  sd.sf"
   ]
  },
  {
   "cell_type": "code",
   "execution_count": 24,
   "metadata": {},
   "outputs": [
    {
     "name": "stdout",
     "output_type": "stream",
     "text": [
      "Nr=9049\n",
      "size factor [0.33415291 0.33439954 0.33661929 4.38312716 6.03265007 7.42727757]\n"
     ]
    },
    {
     "data": {
      "image/png": "[encoded data removed]",
      "text/plain": [
       "<Figure size 864x360 with 1 Axes>"
      ]
     },
     "metadata": {},
     "output_type": "display_data"
    },
    {
     "name": "stdout",
     "output_type": "stream",
     "text": [
      "first 5 genes:  [0.81493974 0.49040034 0.44973624 1.1602532  1.3858948 ]\n"
     ]
    }
   ],
   "source": [
    "sf = sd.dd_size_factor(data)\n",
    "print('first 5 genes: ', sf[0:5])"
   ]
  },
  {
   "cell_type": "code",
   "execution_count": 25,
   "metadata": {},
   "outputs": [
    {
     "name": "stdout",
     "output_type": "stream",
     "text": [
      "[0.81493976 0.49040036 0.44973625 1.16025322 1.38589484]\n"
     ]
    }
   ],
   "source": [
    "## \n",
    "x = np.array(data.X.todense(),dtype=int)\n",
    "temp = x.mean(axis=1)/x.mean()\n",
    "print(temp[0:5])"
   ]
  },
  {
   "cell_type": "markdown",
   "metadata": {},
   "source": [
    "# unit test of  dd_moment_anndata"
   ]
  },
  {
   "cell_type": "code",
   "execution_count": 28,
   "metadata": {},
   "outputs": [
    {
     "data": {
      "text/plain": [
       "0"
      ]
     },
     "execution_count": 28,
     "metadata": {},
     "output_type": "execute_result"
    }
   ],
   "source": [
    "gene_list.index('Mrpl15')"
   ]
  },
  {
   "cell_type": "code",
   "execution_count": 30,
   "metadata": {},
   "outputs": [
    {
     "name": "stdout",
     "output_type": "stream",
     "text": [
      "[  1.60257787   5.74221267  31.72502685 243.783029  ]\n",
      "[  1.60257787   4.1396348   17.70354458 106.98174006]\n"
     ]
    }
   ],
   "source": [
    "M_ml,M_dd = sd.dd_1d_moment(data,size_factor=None,verbose=False,k=4,Nr_normalize=False)\n",
    "print(M_ml[:,0])\n",
    "print(M_dd[:,0])"
   ]
  },
  {
   "cell_type": "code",
   "execution_count": 31,
   "metadata": {},
   "outputs": [
    {
     "name": "stdout",
     "output_type": "stream",
     "text": [
      "ml 1 1.638904403876617\n",
      "ml 2 5.0452815569016085\n",
      "ml 3 19.933065542745595\n",
      "ml 4 96.84792931441598\n",
      "dd 1 1.602577873254565\n",
      "dd 2 4.139634801288937\n",
      "dd 3 17.703544575725026\n",
      "dd 4 106.98174006444683\n"
     ]
    }
   ],
   "source": [
    "g1 = np.array(data[:,'Mrpl15'].X,dtype=int)\n",
    "\n",
    "for i in range(4):\n",
    "    print('ml',i+1,np.mean(g1**(i+1)/sf**(i+1)))\n",
    "    \n",
    "print('dd',1,np.mean(g1))\n",
    "print('dd',2,np.mean(g1**2-g1))\n",
    "print('dd',3,np.mean(g1**3-3*g1**2+2*g1))\n",
    "print('dd',4,np.mean(g1**4-6*g1**3+11*g1**2-6*g1))"
   ]
  },
  {
   "cell_type": "code",
   "execution_count": 19,
   "metadata": {},
   "outputs": [
    {
     "data": {
      "text/plain": [
       "<function util.size_factor>"
      ]
     },
     "execution_count": 19,
     "metadata": {},
     "output_type": "execute_result"
    }
   ],
   "source": [
    "size_factor"
   ]
  },
  {
   "cell_type": "code",
   "execution_count": null,
   "metadata": {
    "collapsed": true
   },
   "outputs": [],
   "source": []
  }
 ],
 "metadata": {
  "kernelspec": {
   "display_name": "Python 3",
   "language": "python",
   "name": "python3"
  },
  "language_info": {
   "codemirror_mode": {
    "name": "ipython",
    "version": 3
   },
   "file_extension": ".py",
   "mimetype": "text/x-python",
   "name": "python",
   "nbconvert_exporter": "python",
   "pygments_lexer": "ipython3",
   "version": "3.6.3"
  }
 },
 "nbformat": 4,
 "nbformat_minor": 2
}
