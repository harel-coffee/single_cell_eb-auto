{
 "cells": [
  {
   "cell_type": "code",
   "execution_count": 147,
   "metadata": {},
   "outputs": [
    {
     "name": "stdout",
     "output_type": "stream",
     "text": [
      "The autoreload extension is already loaded. To reload it, use:\n",
      "  %reload_ext autoreload\n"
     ]
    }
   ],
   "source": [
    "import numpy as np\n",
    "import scipy as sp\n",
    "import matplotlib.pyplot as plt\n",
    "import matplotlib.cm as cm\n",
    "import scanpy.api as sc\n",
    "import pandas as pd\n",
    "import h5py\n",
    "import os\n",
    "import time\n",
    "import itertools\n",
    "\n",
    "from util import *\n",
    "# from data_loader import * \n",
    "import scdd as sd\n",
    "import data_loader as dl\n",
    "import dist_deconv_1d as dd1d\n",
    "\n",
    "%matplotlib inline\n",
    "%load_ext autoreload\n",
    "%autoreload 2"
   ]
  },
  {
   "cell_type": "code",
   "execution_count": 86,
   "metadata": {
    "collapsed": true
   },
   "outputs": [],
   "source": [
    "theta = 2\n",
    "r = 3\n",
    "Nr = 4"
   ]
  },
  {
   "cell_type": "code",
   "execution_count": 87,
   "metadata": {},
   "outputs": [
    {
     "name": "stdout",
     "output_type": "stream",
     "text": [
      "check var_ 0.0\n",
      "check var_x2_ 0.0\n"
     ]
    }
   ],
   "source": [
    "## moments \n",
    "M = np.ones([4])\n",
    "for i in range(4):\n",
    "    M[i] = theta**(i+1) * np.math.factorial(r+i) / np.math.factorial(r-1)\n",
    "var_ = r*theta**2\n",
    "var_x2_ = theta**4 * r * (r+1) * (4*r+6)\n",
    "print('check var_', var_ - (M[1]-M[0]**2))\n",
    "print('check var_x2_', var_x2_ - (M[3]-M[1]**2))"
   ]
  },
  {
   "cell_type": "code",
   "execution_count": 116,
   "metadata": {},
   "outputs": [
    {
     "name": "stdout",
     "output_type": "stream",
     "text": [
      "check Sigma\n",
      "[[-0.00716795 -0.00486488]\n",
      " [-0.00486488 -0.00369305]]\n"
     ]
    }
   ],
   "source": [
    "## check Sigma \n",
    "np.random.seed(0)\n",
    "n_sample = 100000\n",
    "x_sample = np.random.gamma(r,theta,n_sample)\n",
    "size_factor = np.random.randn(n_sample)*0.1+1\n",
    "y_sample = np.random.poisson(Nr*size_factor*x_sample)\n",
    "M_sample = np.zeros([n_sample,2])\n",
    "M_sample[:,0] = y_sample/Nr/size_factor\n",
    "M_sample[:,1] = (y_sample**2-y_sample)/Nr**2/size_factor**2\n",
    "empirical_Sigma = np.cov(M_sample.T)\n",
    "\n",
    "## theoretical value \n",
    "theoreical_Sigma = np.zeros([2,2])\n",
    "c_gamma_1 = np.mean(1/size_factor)\n",
    "c_gamma_2 = np.mean(1/size_factor**2)\n",
    "theoreical_Sigma[0,0] = r*theta**2 + c_gamma_1/Nr*r*theta\n",
    "theoreical_Sigma[0,1] = 2*r*(r+1)*theta**3 + 2*c_gamma_1/Nr*r*(r+1)*theta**2\n",
    "theoreical_Sigma[1,0] = 2*r*(r+1)*theta**3 + 2*c_gamma_1/Nr*r*(r+1)*theta**2\n",
    "theoreical_Sigma[1,1] = 2*(2*r+3)*(r+1)*r*theta**4 \\\n",
    "                        + 4*c_gamma_1/Nr*r*(r+1)*(r+2)*theta**3\\\n",
    "                        + 2*c_gamma_2/Nr**2*r*(r+1)*theta**2\n",
    "\n",
    "print('check Sigma')\n",
    "print( (empirical_Sigma - theoreical_Sigma) / empirical_Sigma)"
   ]
  },
  {
   "cell_type": "code",
   "execution_count": 98,
   "metadata": {},
   "outputs": [
    {
     "name": "stdout",
     "output_type": "stream",
     "text": [
      "check h: 0.0 0.0\n",
      "check J\n",
      "[[-6.61079206e-09 -8.27403642e-08]\n",
      " [-3.83314485e-08 -8.27403642e-08]]\n"
     ]
    }
   ],
   "source": [
    "## check h \n",
    "def h(x,y):\n",
    "    return np.array([y/x-x, x**2/(y-x**2)])\n",
    "\n",
    "print('check h:', theta-h(M[0],M[1])[0], r-h(M[0],M[1])[1])\n",
    "\n",
    "## check jacobian \n",
    "numerical_J = np.zeros([2,2])\n",
    "step = 1e-8\n",
    "\n",
    "numerical_J[:,0] = (h(M[0]+step,M[1]) - h(M[0],M[1])) / step\n",
    "numerical_J[:,1] = (h(M[0],M[1]+step) - h(M[0],M[1])) / step\n",
    "\n",
    "        \n",
    "        \n",
    "theoreical_J = np.zeros([2,2])\n",
    "theoreical_J[0,0] = -(2*r+1)/r\n",
    "theoreical_J[0,1] = 1/r/theta\n",
    "theoreical_J[1,0] = 2*(r+1)/theta\n",
    "theoreical_J[1,1] = -1/theta**2\n",
    "\n",
    "print('check J')\n",
    "print( (theoreical_J - numerical_J) / numerical_J)"
   ]
  },
  {
   "cell_type": "code",
   "execution_count": 103,
   "metadata": {},
   "outputs": [
    {
     "name": "stdout",
     "output_type": "stream",
     "text": [
      "check Sigma_tilde_11 -3.552713678800501e-15\n",
      "check Sigma_tilde_22 -1.4210854715202004e-14\n"
     ]
    }
   ],
   "source": [
    "## check Sigma_tilde \n",
    "numerical_Sigma_tilde = theoreical_J.dot(theoreical_Sigma).dot(theoreical_J.T)\n",
    "\n",
    "Sigma_tilde_11 = (2*r+3)*theta**2/r \\\n",
    "                 + (4*r+5)*theta/Nr/r*c_gamma_1 \\\n",
    "                 + 2*(r+1)/Nr**2/r*c_gamma_2\n",
    "        \n",
    "Sigma_tilde_22 = 2*r*(r+1) \\\n",
    "                 + 4*r*(r+1)/theta/Nr*c_gamma_1 \\\n",
    "                 + 2*r*(r+1)/Nr**2/theta**2*c_gamma_2\n",
    "\n",
    "print('check Sigma_tilde_11',Sigma_tilde_11 - numerical_Sigma_tilde[0,0])\n",
    "print('check Sigma_tilde_22',Sigma_tilde_22 - numerical_Sigma_tilde[1,1])\n"
   ]
  },
  {
   "cell_type": "code",
   "execution_count": 100,
   "metadata": {},
   "outputs": [
    {
     "name": "stderr",
     "output_type": "stream",
     "text": [
      "/home/martin/anaconda3/lib/python3.6/site-packages/ipykernel_launcher.py:3: RuntimeWarning: invalid value encountered in double_scalars\n",
      "  This is separate from the ipykernel package so we can avoid doing imports until\n"
     ]
    },
    {
     "name": "stdout",
     "output_type": "stream",
     "text": [
      "check Sigma_tilde\n",
      "[[nan nan]\n",
      " [nan nan]]\n"
     ]
    }
   ],
   "source": [
    "## check the estimation error \n",
    "h_M_sample = np.zeros([n_sample,2])\n",
    "for i in range(n_sample):\n",
    "    h_M_sample[i] = h(M_sample[i,0],M_sample[i,1])\n",
    "    \n",
    "empirical_h = np.cov(h_M_sample.T)\n",
    "\n",
    "print('check Sigma_tilde')\n",
    "print( (empirical_h - numerical_Sigma_tilde) / empirical_h)\n"
   ]
  },
  {
   "cell_type": "code",
   "execution_count": 142,
   "metadata": {},
   "outputs": [
    {
     "name": "stdout",
     "output_type": "stream",
     "text": [
      "check error theta 0.02682167971413321\n",
      "check error r -0.0687809116823012\n"
     ]
    }
   ],
   "source": [
    "## check Sigma \n",
    "np.random.seed(0)\n",
    "n_rep = 1000\n",
    "n_sample = 200\n",
    "\n",
    "theta = 2\n",
    "r = 3\n",
    "Nr = 5\n",
    "\n",
    "estimate = np.zeros([2,n_rep])\n",
    "size_factor = np.random.randn(n_sample)*0.1+1\n",
    "\n",
    "c_gamma_1 = np.mean(1/size_factor)\n",
    "c_gamma_2 = np.mean(1/size_factor**2)\n",
    "\n",
    "Sigma_tilde_11 = (2*r+3)*theta**2/r \\\n",
    "                 + (4*r+5)*theta/Nr/r*c_gamma_1 \\\n",
    "                 + 2*(r+1)/Nr**2/r*c_gamma_2\n",
    "        \n",
    "Sigma_tilde_22 = 2*r*(r+1) \\\n",
    "                 + 4*r*(r+1)/theta/Nr*c_gamma_1 \\\n",
    "                 + 2*r*(r+1)/Nr**2/theta**2*c_gamma_2\n",
    "        \n",
    "        \n",
    "\n",
    "for i_rep in range(n_rep):\n",
    "    \n",
    "    x_sample = np.random.gamma(r,theta,n_sample)\n",
    "    \n",
    "    y_sample = np.random.poisson(Nr*size_factor*x_sample)\n",
    "    M_sample = np.zeros([n_sample,2])\n",
    "    M_sample[:,0] = y_sample/Nr/size_factor\n",
    "    M_sample[:,1] = (y_sample**2-y_sample)/Nr**2/size_factor**2\n",
    "    M_estimate = M_sample.mean(axis=0)\n",
    "    estimate[:,i_rep] = h(M_estimate[0],M_estimate[1])\n",
    "    \n",
    "\n",
    "\n",
    "print('check error theta',((Sigma_tilde_11/n_sample) - np.mean((theta - estimate[0])**2))/ (Sigma_tilde_11/n_sample))\n",
    "print('check error r',((Sigma_tilde_22/n_sample) - np.mean((r - estimate[1])**2)) / (Sigma_tilde_22/n_sample))\n"
   ]
  },
  {
   "cell_type": "code",
   "execution_count": 148,
   "metadata": {},
   "outputs": [
    {
     "data": {
      "text/plain": [
       "array([[2., 2.],\n",
       "       [3., 3.]])"
      ]
     },
     "execution_count": 148,
     "metadata": {},
     "output_type": "execute_result"
    }
   ],
   "source": [
    "sd.M_to_gamma(np.repeat(M,2).reshape([4,2]))"
   ]
  },
  {
   "cell_type": "code",
   "execution_count": 146,
   "metadata": {},
   "outputs": [
    {
     "data": {
      "text/plain": [
       "array([[   6.,    6.],\n",
       "       [  48.,   48.],\n",
       "       [ 480.,  480.],\n",
       "       [5760., 5760.]])"
      ]
     },
     "execution_count": 146,
     "metadata": {},
     "output_type": "execute_result"
    }
   ],
   "source": [
    "np.repeat(M,2).reshape([4,2])"
   ]
  },
  {
   "cell_type": "code",
   "execution_count": null,
   "metadata": {
    "collapsed": true
   },
   "outputs": [],
   "source": []
  }
 ],
 "metadata": {
  "kernelspec": {
   "display_name": "Python 3",
   "language": "python",
   "name": "python3"
  },
  "language_info": {
   "codemirror_mode": {
    "name": "ipython",
    "version": 3
   },
   "file_extension": ".py",
   "mimetype": "text/x-python",
   "name": "python",
   "nbconvert_exporter": "python",
   "pygments_lexer": "ipython3",
   "version": "3.6.3"
  }
 },
 "nbformat": 4,
 "nbformat_minor": 2
}
