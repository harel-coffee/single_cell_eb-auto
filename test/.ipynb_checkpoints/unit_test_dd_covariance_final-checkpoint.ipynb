{
 "cells": [
  {
   "cell_type": "code",
   "execution_count": 71,
   "metadata": {},
   "outputs": [
    {
     "name": "stdout",
     "output_type": "stream",
     "text": [
      "The autoreload extension is already loaded. To reload it, use:\n",
      "  %reload_ext autoreload\n"
     ]
    }
   ],
   "source": [
    "import time\n",
    "import matplotlib.pyplot as plt\n",
    "import numpy as np\n",
    "import data_loader as dl\n",
    "import scdd as sd\n",
    "import scipy as sp\n",
    "\n",
    "%matplotlib inline\n",
    "%load_ext autoreload\n",
    "%autoreload 2"
   ]
  },
  {
   "cell_type": "code",
   "execution_count": 72,
   "metadata": {},
   "outputs": [
    {
     "name": "stdout",
     "output_type": "stream",
     "text": [
      "True mean\n",
      "[0.305989   0.19048567 0.50352533]\n",
      "True cov\n",
      "[[ 0.07213833 -0.03138634 -0.04075199]\n",
      " [-0.03138634  0.06067881 -0.02929246]\n",
      " [-0.04075199 -0.02929246  0.07004445]]\n",
      "True PC\n",
      "[[ 1.         -0.47439398 -0.57329596]\n",
      " [-0.47439398  1.         -0.44931458]\n",
      " [-0.57329596 -0.44931458  1.        ]]\n"
     ]
    }
   ],
   "source": [
    "data,X,p0_true,size_factor = dl.load_toy_ann_data()\n",
    "print('True mean')\n",
    "print(np.mean(X,axis=0))\n",
    "print('True cov')\n",
    "print(np.cov(X.T))\n",
    "print('True PC')\n",
    "print(np.corrcoef(X.T))"
   ]
  },
  {
   "cell_type": "code",
   "execution_count": 78,
   "metadata": {},
   "outputs": [
    {
     "name": "stdout",
     "output_type": "stream",
     "text": [
      "#time start: 0.0s\n",
      "n_cell=100000, n_gene=3, Nr=20.0\n",
      "#total: 0.04s\n",
      "#time start: 0.0s\n",
      "n_cell=100000, n_gene=3, Nr=20.0\n",
      "#total: 0.02s\n",
      "#time start: 0.0s\n",
      "n_cell=100000, n_gene=3\n",
      "#total: 0.01s\n"
     ]
    }
   ],
   "source": [
    "mean_dd,cov_dd,PC_dd  = sd.dd_covariance(data,size_factor=size_factor)\n",
    "mean_ml,cov_ml,PC_ml  = sd.ml_covariance(data,size_factor=size_factor)\n",
    "M_ml,M_dd = sd.dd_1d_moment(data,size_factor=size_factor)\n",
    "Nc,G = data.shape\n",
    "Nr = data.X.sum()/Nc"
   ]
  },
  {
   "cell_type": "code",
   "execution_count": 79,
   "metadata": {},
   "outputs": [
    {
     "name": "stdout",
     "output_type": "stream",
     "text": [
      "dd mean\n",
      "[0.3057686  0.19015255 0.50328346]\n",
      "[0.3057686  0.19015255 0.50328346]\n",
      "dd cov\n",
      "[[ 1.44088718 -0.62622825 -0.81830304]\n",
      " [-0.62622825  1.20976939 -0.58123237]\n",
      " [-0.81830304 -0.58123237  1.40489912]]\n",
      "[1.44088718 1.20976939 1.40489912]\n",
      "dd PC\n",
      "[[ 1.         -0.47431447 -0.57514401]\n",
      " [-0.47431447  1.         -0.44583681]\n",
      " [-0.57514401 -0.44583681  1.        ]]\n"
     ]
    }
   ],
   "source": [
    "print('dd mean')\n",
    "print(mean_dd/Nr)\n",
    "print(M_dd[0]/Nr)\n",
    "print('dd cov')\n",
    "print(cov_dd/Nr)\n",
    "print((M_dd[1]-M_dd[0]**2)/Nr)\n",
    "print('dd PC')\n",
    "print(PC_dd)"
   ]
  },
  {
   "cell_type": "code",
   "execution_count": 80,
   "metadata": {},
   "outputs": [
    {
     "name": "stdout",
     "output_type": "stream",
     "text": [
      "ml mean\n",
      "[0.3057686  0.19015255 0.50328346]\n",
      "[0.3057686  0.19015255 0.50328346]\n",
      "ml cov\n",
      "[[ 1.7598504  -0.62622825 -0.81830304]\n",
      " [-0.62622825  1.40802153 -0.58123237]\n",
      " [-0.81830304 -0.58123237  1.93021727]]\n",
      "[1.7598504  1.40802153 1.93021727]\n",
      "ml PC\n",
      "[[ 1.         -0.39782323 -0.44399   ]\n",
      " [-0.39782323  1.         -0.35256731]\n",
      " [-0.44399    -0.35256731  1.        ]]\n"
     ]
    }
   ],
   "source": [
    "print('ml mean')\n",
    "print(mean_ml/Nr)\n",
    "print(M_ml[0]/Nr)\n",
    "print('ml cov')\n",
    "print(cov_ml/Nr)\n",
    "print((M_ml[1]-M_ml[0]**2)/Nr)\n",
    "print('ml PC')\n",
    "print(PC_ml)"
   ]
  },
  {
   "cell_type": "code",
   "execution_count": 81,
   "metadata": {},
   "outputs": [
    {
     "name": "stdout",
     "output_type": "stream",
     "text": [
      "mean\n",
      "[[0.3057686  0.19015255 0.50328346]]\n",
      "cov\n",
      "[[ 0.08787411 -0.03126928 -0.04086009]\n",
      " [-0.03126928  0.07030634 -0.02902251]\n",
      " [-0.04086009 -0.02902251  0.09638099]]\n",
      "PC\n",
      "[[ 1.         -0.39782323 -0.44399   ]\n",
      " [-0.39782323  1.         -0.35256731]\n",
      " [-0.44399    -0.35256731  1.        ]]\n"
     ]
    }
   ],
   "source": [
    "Nr = data.X.sum()/data.shape[0]\n",
    "Y = data.X.todense()\n",
    "Y_sf = (Y.T/size_factor).T\n",
    "print('mean')\n",
    "print(Y_sf.mean(axis=0)/Nr)\n",
    "print('cov')\n",
    "print(np.cov(Y_sf.T)/Nr**2)\n",
    "print('PC')\n",
    "print(np.corrcoef(Y_sf.T))\n"
   ]
  },
  {
   "cell_type": "code",
   "execution_count": null,
   "metadata": {
    "collapsed": true
   },
   "outputs": [],
   "source": []
  }
 ],
 "metadata": {
  "kernelspec": {
   "display_name": "Python 3",
   "language": "python",
   "name": "python3"
  },
  "language_info": {
   "codemirror_mode": {
    "name": "ipython",
    "version": 3
   },
   "file_extension": ".py",
   "mimetype": "text/x-python",
   "name": "python",
   "nbconvert_exporter": "python",
   "pygments_lexer": "ipython3",
   "version": "3.6.3"
  }
 },
 "nbformat": 4,
 "nbformat_minor": 2
}
