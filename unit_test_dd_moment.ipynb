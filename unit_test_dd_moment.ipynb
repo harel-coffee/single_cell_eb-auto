{
 "cells": [
  {
   "cell_type": "code",
   "execution_count": 6,
   "metadata": {},
   "outputs": [
    {
     "name": "stdout",
     "output_type": "stream",
     "text": [
      "The autoreload extension is already loaded. To reload it, use:\n",
      "  %reload_ext autoreload\n"
     ]
    }
   ],
   "source": [
    "import numpy as np\n",
    "import scipy as sp\n",
    "import matplotlib.pyplot as plt\n",
    "import matplotlib.cm as cm\n",
    "import pandas as pd\n",
    "import h5py\n",
    "import os\n",
    "import time\n",
    "\n",
    "from util import *\n",
    "from data_loader import * \n",
    "import scdd as sd\n",
    "\n",
    "%matplotlib inline\n",
    "%load_ext autoreload\n",
    "%autoreload 2"
   ]
  },
  {
   "cell_type": "code",
   "execution_count": 7,
   "metadata": {
    "collapsed": true
   },
   "outputs": [],
   "source": [
    "data = load_10x_1k()\n",
    "sc.pp.filter_genes(data,min_counts=data.shape[0])"
   ]
  },
  {
   "cell_type": "markdown",
   "metadata": {},
   "source": [
    "# unit test of  sd.sf"
   ]
  },
  {
   "cell_type": "code",
   "execution_count": 9,
   "metadata": {},
   "outputs": [
    {
     "name": "stdout",
     "output_type": "stream",
     "text": [
      "Nr=9049\n",
      "gamma_c [0.33415291 0.33439954 0.33661929 4.38312716 6.03265007 7.42727757]\n"
     ]
    },
    {
     "data": {
      "image/png": "[encoded data removed]",
      "text/plain": [
       "<matplotlib.figure.Figure at 0x7f53af04e2b0>"
      ]
     },
     "metadata": {},
     "output_type": "display_data"
    },
    {
     "name": "stdout",
     "output_type": "stream",
     "text": [
      "first 5 genes:  [[0.81493974]\n",
      " [0.49040034]\n",
      " [0.44973624]\n",
      " [1.16025317]\n",
      " [1.38589478]]\n"
     ]
    }
   ],
   "source": [
    "sf = sd.sf(data)\n",
    "print('first 5 genes: ', sf[0:5])"
   ]
  },
  {
   "cell_type": "code",
   "execution_count": 23,
   "metadata": {},
   "outputs": [
    {
     "name": "stdout",
     "output_type": "stream",
     "text": [
      "[0.81493976 0.49040036 0.44973625 1.16025322 1.38589484]\n"
     ]
    }
   ],
   "source": [
    "## \n",
    "x = np.array(data.X.todense(),dtype=int)\n",
    "temp = x.mean(axis=1)/x.mean()\n",
    "print(temp[0:5])"
   ]
  },
  {
   "cell_type": "markdown",
   "metadata": {},
   "source": [
    "# unit test of  dd_moment_anndata"
   ]
  },
  {
   "cell_type": "code",
   "execution_count": 28,
   "metadata": {},
   "outputs": [
    {
     "name": "stdout",
     "output_type": "stream",
     "text": [
      "[  1.60257757   4.13963854  17.70342326 106.98119712]\n",
      "[  1.60257757   5.74221611  31.72491646 243.78178406]\n"
     ]
    }
   ],
   "source": [
    "M,M_ml,gene_list = sd.dd_moment_anndata(data,gamma_c=None,verbose=False,k=4)\n",
    "print(M[0])\n",
    "print(M_ml[0])"
   ]
  },
  {
   "cell_type": "code",
   "execution_count": 43,
   "metadata": {},
   "outputs": [
    {
     "name": "stdout",
     "output_type": "stream",
     "text": [
      "ml 1 1.602577873254565\n",
      "ml 2 5.742212674543501\n",
      "ml 3 31.7250268528464\n",
      "ml 4 243.7830290010741\n",
      "dd 1 1.602577873254565\n",
      "dd 2 4.139634801288937\n",
      "dd 3 17.703544575725026\n",
      "dd 4 106.98174006444683\n"
     ]
    }
   ],
   "source": [
    "g1 = np.array(data[:,'Mrpl15'].X,dtype=int)\n",
    "\n",
    "for i in range(4):\n",
    "    print('ml',i+1,np.mean(g1**(i+1)))\n",
    "    \n",
    "print('dd',1,np.mean(g1))\n",
    "print('dd',2,np.mean(g1**2-g1))\n",
    "print('dd',3,np.mean(g1**3-3*g1**2+2*g1))\n",
    "print('dd',4,np.mean(g1**4-6*g1**3+11*g1**2-6*g1))"
   ]
  }
 ],
 "metadata": {
  "kernelspec": {
   "display_name": "Python 3",
   "language": "python",
   "name": "python3"
  },
  "language_info": {
   "codemirror_mode": {
    "name": "ipython",
    "version": 3
   },
   "file_extension": ".py",
   "mimetype": "text/x-python",
   "name": "python",
   "nbconvert_exporter": "python",
   "pygments_lexer": "ipython3",
   "version": "3.6.3"
  }
 },
 "nbformat": 4,
 "nbformat_minor": 2
}
