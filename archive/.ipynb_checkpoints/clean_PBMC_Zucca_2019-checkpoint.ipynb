{
 "cells": [
  {
   "cell_type": "code",
   "execution_count": 61,
   "metadata": {},
   "outputs": [
    {
     "name": "stderr",
     "output_type": "stream",
     "text": [
      "/home/martin/anaconda3/lib/python3.6/site-packages/sklearn/externals/joblib/__init__.py:15: DeprecationWarning: sklearn.externals.joblib is deprecated in 0.21 and will be removed in 0.23. Please import this functionality directly from joblib, which can be installed with: pip install joblib. If this warning is raised when loading pickled models, you may need to re-serialize those models with scikit-learn 0.21+.\n",
      "  warnings.warn(msg, category=DeprecationWarning)\n"
     ]
    }
   ],
   "source": [
    "import os\n",
    "import pandas as pd\n",
    "import scanpy.api as sc"
   ]
  },
  {
   "cell_type": "code",
   "execution_count": 23,
   "metadata": {},
   "outputs": [],
   "source": [
    "name_dic = {'GSM2837677': 'CTRL1',\n",
    "            'GSM2837678': 'CTRL2',\n",
    "            'GSM2837679': 'CTRL3',\n",
    "            'GSM3172784': 'CTRL4',\n",
    "            'GSM3172785': 'CTRL5',\n",
    "            'GSM3172786': 'CTRL6',\n",
    "            'GSM3172787': 'CTRL7'}"
   ]
  },
  {
   "cell_type": "code",
   "execution_count": 54,
   "metadata": {},
   "outputs": [
    {
     "name": "stdout",
     "output_type": "stream",
     "text": [
      "GSM2837677_C2linc.isoforms.results.txt CTRL1\n",
      "GSM3172786_c840_gtf_annotated_genes.results.txt CTRL6\n",
      "GSM2837678_C775linc.isoforms.results.txt CTRL2\n",
      "GSM3172784_c258_gtf_annotated_genes.results.txt CTRL4\n",
      "GSM3172787_c844_gtf_annotated_genes.results.txt CTRL7\n",
      "GSM3172785_c757_gtf_annotated_genes.results.txt CTRL5\n",
      "GSM2837679_C89linc.isoforms.results.txt CTRL3\n"
     ]
    }
   ],
   "source": [
    "file_path = '/data/martin/single_cell/PBMC_Zucca_2019'\n",
    "df_gene = None\n",
    "for fname in os.listdir(file_path):\n",
    "    if fname.split('.')[-1]=='txt':\n",
    "        sample_name = name_dic[fname.split('_')[0]]\n",
    "        print(fname, sample_name)\n",
    "        temp_df = pd.read_csv(file_path+'/'+fname, sep='\\t')\n",
    "        if 'annotation.gene_name' not in temp_df.columns:\n",
    "            continue\n",
    "        temp_df = temp_df.groupby(['annotation.gene_name']).agg({'FPKM':'sum'})\n",
    "        temp_df.columns = [[sample_name]]\n",
    "        if df_gene is None:\n",
    "            df_gene = temp_df\n",
    "        else:\n",
    "            df_gene = df_gene.join(temp_df, how='outer')\n",
    "#         break"
   ]
  },
  {
   "cell_type": "code",
   "execution_count": 59,
   "metadata": {},
   "outputs": [],
   "source": [
    "df_gene = df_gene.loc[(df_gene.sum(axis=1))>0]"
   ]
  },
  {
   "cell_type": "code",
   "execution_count": 65,
   "metadata": {},
   "outputs": [],
   "source": [
    "anndata = sc.AnnData(df_gene.T)"
   ]
  },
  {
   "cell_type": "code",
   "execution_count": 56,
   "metadata": {},
   "outputs": [],
   "source": [
    "anndata.write(file_path + '/bulk_Zucca_2019.h5ad')"
   ]
  },
  {
   "cell_type": "code",
   "execution_count": 62,
   "metadata": {},
   "outputs": [
    {
     "data": {
      "text/plain": [
       "anndata.base.AnnData"
      ]
     },
     "execution_count": 62,
     "metadata": {},
     "output_type": "execute_result"
    }
   ],
   "source": []
  },
  {
   "cell_type": "code",
   "execution_count": null,
   "metadata": {},
   "outputs": [],
   "source": []
  }
 ],
 "metadata": {
  "kernelspec": {
   "display_name": "Python 3",
   "language": "python",
   "name": "python3"
  },
  "language_info": {
   "codemirror_mode": {
    "name": "ipython",
    "version": 3
   },
   "file_extension": ".py",
   "mimetype": "text/x-python",
   "name": "python",
   "nbconvert_exporter": "python",
   "pygments_lexer": "ipython3",
   "version": "3.6.8"
  }
 },
 "nbformat": 4,
 "nbformat_minor": 2
}
