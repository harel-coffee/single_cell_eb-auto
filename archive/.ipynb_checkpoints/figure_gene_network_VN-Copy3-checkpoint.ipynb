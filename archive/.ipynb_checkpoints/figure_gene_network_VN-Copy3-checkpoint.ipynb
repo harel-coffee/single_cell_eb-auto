{
 "cells": [
  {
   "cell_type": "code",
   "execution_count": 214,
   "metadata": {},
   "outputs": [
    {
     "name": "stdout",
     "output_type": "stream",
     "text": [
      "The autoreload extension is already loaded. To reload it, use:\n",
      "  %reload_ext autoreload\n"
     ]
    }
   ],
   "source": [
    "import numpy as np\n",
    "import scipy as sp\n",
    "import matplotlib.pyplot as plt\n",
    "import matplotlib.cm as cm\n",
    "import scanpy.api as sc\n",
    "import pandas as pd\n",
    "import h5py\n",
    "import os\n",
    "import time\n",
    "import itertools\n",
    "from sklearn.decomposition import PCA\n",
    "\n",
    "## Network\n",
    "from community import community_louvain\n",
    "import networkx as nx\n",
    "import matplotlib.pyplot as plt\n",
    "\n",
    "from util import *\n",
    "import data_loader as dl\n",
    "import scdd as sd\n",
    "import dist_deconv_1d as dd1d\n",
    "\n",
    "%matplotlib inline\n",
    "%load_ext autoreload\n",
    "%autoreload 2"
   ]
  },
  {
   "cell_type": "code",
   "execution_count": 2,
   "metadata": {
    "collapsed": true
   },
   "outputs": [],
   "source": [
    "import matplotlib.cm as cm"
   ]
  },
  {
   "cell_type": "markdown",
   "metadata": {},
   "source": [
    "# Computation of the zero probability and the Pearson correlation matrix"
   ]
  },
  {
   "cell_type": "code",
   "execution_count": 277,
   "metadata": {},
   "outputs": [
    {
     "name": "stdout",
     "output_type": "stream",
     "text": [
      "Variable names are not unique. To make them unique, call `.var_names_make_unique`.\n"
     ]
    }
   ],
   "source": [
    "data = dl.load_10x_4k()"
   ]
  },
  {
   "cell_type": "code",
   "execution_count": 278,
   "metadata": {},
   "outputs": [
    {
     "name": "stdout",
     "output_type": "stream",
     "text": [
      "## Nc=4340, G=4039, Nr=4038.76, Nr_bar=1.00\n"
     ]
    }
   ],
   "source": [
    "gene_list_raw = np.array(data.var_names)\n",
    "sc.pp.filter_genes(data,min_counts=0.1*data.shape[0])\n",
    "Nc,G,Nr,Nr_bar = sd.get_info(data)"
   ]
  },
  {
   "cell_type": "code",
   "execution_count": 279,
   "metadata": {},
   "outputs": [
    {
     "name": "stdout",
     "output_type": "stream",
     "text": [
      "#time start: 0.0s\n",
      "n_cell=4340, n_gene=4039\n",
      "#total: 0.24s\n"
     ]
    }
   ],
   "source": [
    "M_ml,M_dd = sd.dd_1d_moment(data,size_factor=size_factor)\n",
    "cv_dd = sd.M_to_cv(M_dd)\n",
    "cv_ml = sd.M_to_cv(M_ml)"
   ]
  },
  {
   "cell_type": "code",
   "execution_count": 201,
   "metadata": {},
   "outputs": [
    {
     "data": {
      "text/plain": [
       "1459"
      ]
     },
     "execution_count": 201,
     "metadata": {},
     "output_type": "execute_result"
    }
   ],
   "source": [
    "np.sum(np.diag(PC_dd)==0)"
   ]
  },
  {
   "cell_type": "code",
   "execution_count": null,
   "metadata": {
    "collapsed": true
   },
   "outputs": [],
   "source": []
  },
  {
   "cell_type": "code",
   "execution_count": 199,
   "metadata": {},
   "outputs": [
    {
     "name": "stderr",
     "output_type": "stream",
     "text": [
      "/home/martin/anaconda3/lib/python3.6/site-packages/ipykernel_launcher.py:2: RuntimeWarning: divide by zero encountered in log10\n",
      "  \n"
     ]
    },
    {
     "data": {
      "image/png": "[encoded data removed]",
      "text/plain": [
       "<Figure size 432x288 with 1 Axes>"
      ]
     },
     "metadata": {},
     "output_type": "display_data"
    }
   ],
   "source": [
    "plt.figure()\n",
    "plt.scatter(np.log10(mean_dd),np.log10(np.diag(PC_dd)))\n",
    "plt.show()"
   ]
  },
  {
   "cell_type": "code",
   "execution_count": 280,
   "metadata": {
    "collapsed": true
   },
   "outputs": [],
   "source": [
    "n_top_gene = 2000\n",
    "sort_idx = np.argsort(cv_dd)[::-1][0:n_top_gene]\n",
    "gene_list = []\n",
    "for i in sort_idx:\n",
    "    gene_list.append(data.var_names[i])"
   ]
  },
  {
   "cell_type": "code",
   "execution_count": 281,
   "metadata": {},
   "outputs": [],
   "source": [
    "data = data[:,gene_list]"
   ]
  },
  {
   "cell_type": "code",
   "execution_count": 282,
   "metadata": {},
   "outputs": [
    {
     "data": {
      "text/plain": [
       "View of AnnData object with n_obs × n_vars = 4340 × 2000 \n",
       "    var: 'n_counts'"
      ]
     },
     "execution_count": 282,
     "metadata": {},
     "output_type": "execute_result"
    }
   ],
   "source": [
    "data"
   ]
  },
  {
   "cell_type": "code",
   "execution_count": 283,
   "metadata": {},
   "outputs": [
    {
     "name": "stdout",
     "output_type": "stream",
     "text": [
      "# time start: 0.0s\n",
      "n_cell=4340, n_gene=2000\n",
      "# total time: 0.2s\n",
      "# time start: 0.0s\n",
      "n_cell=4340, n_gene=2000\n",
      "# total time: 36.4s\n"
     ]
    }
   ],
   "source": [
    "## MI using inactive probability \n",
    "size_factor = sd.dd_size_factor(data,verbose=False)\n",
    "p0_ml,p0_dd = sd.dd_inactive_prob(data,relative_depth=1.25,size_factor=size_factor,verbose=True)\n",
    "zero_matrix_ml,zero_matrix_dd = \\\n",
    "sd.dd_pairwise_inactive_prob(data,relative_depth=1.25,size_factor=size_factor,verbose=True)\n",
    "smi_ml = sd.zero_to_mi(zero_matrix_ml,up_reg_gene=True) # zero probability to mi matrix \n",
    "smi_dd = sd.zero_to_mi(zero_matrix_dd,up_reg_gene=True)"
   ]
  },
  {
   "cell_type": "code",
   "execution_count": null,
   "metadata": {
    "collapsed": true
   },
   "outputs": [],
   "source": []
  },
  {
   "cell_type": "code",
   "execution_count": null,
   "metadata": {
    "collapsed": true
   },
   "outputs": [],
   "source": []
  },
  {
   "cell_type": "code",
   "execution_count": 223,
   "metadata": {},
   "outputs": [
    {
     "name": "stdout",
     "output_type": "stream",
     "text": [
      "#time start: 0.0s\n",
      "n_cell=4340, n_gene=2133, Nr=3770.6\n",
      "1405\n",
      "#total: 25.84s\n"
     ]
    }
   ],
   "source": [
    "## Compute the PC matrix \n",
    "# def preprocess(data):\n",
    "#     data_ = data.copy()\n",
    "#     A = data_.X.data\n",
    "#     cap = np.percentile(A,99)\n",
    "#     A = A.clip(max=cap)\n",
    "#     data_.X.data = A\n",
    "#     return data_\n",
    "\n",
    "# data_full = preprocess(data)\n",
    "# data_full = data.copy()\n",
    "# size_factor = sd.dd_size_factor(data,verbose=False)\n",
    "# mean_ml,cov_ml,PC_ml  = sd.ml_covariance(data,size_factor=size_factor)\n",
    "mean_dd,cov_dd,PC_dd  = sd.dd_covariance(data,size_factor=size_factor,PC_prune=True)\n"
   ]
  },
  {
   "cell_type": "code",
   "execution_count": 229,
   "metadata": {},
   "outputs": [],
   "source": [
    "gene_list = list(data.var_names)\n",
    "temp = 1 - PC_dd\n",
    "temp = temp * (temp<0.4)\n",
    "np.fill_diagonal(temp,0)\n",
    "outfile = pwd+'gene_net_PCdd_test.csv'\n",
    "write_NET_csv(temp,gene_list,outfile)"
   ]
  },
  {
   "cell_type": "code",
   "execution_count": 286,
   "metadata": {},
   "outputs": [],
   "source": [
    "# gene_list = list(data.var_names)\n",
    "temp = np.exp(-smi_dd*20)\n",
    "temp = temp * (temp<0.75)\n",
    "np.fill_diagonal(temp,0)\n",
    "outfile = pwd+'gene_net_midd_test.csv'\n",
    "write_NET_csv(temp,gene_list,outfile)"
   ]
  },
  {
   "cell_type": "code",
   "execution_count": 287,
   "metadata": {},
   "outputs": [
    {
     "data": {
      "text/plain": [
       "546"
      ]
     },
     "execution_count": 287,
     "metadata": {},
     "output_type": "execute_result"
    }
   ],
   "source": [
    "gene_list.index('S100A6')"
   ]
  },
  {
   "cell_type": "code",
   "execution_count": 297,
   "metadata": {},
   "outputs": [
    {
     "data": {
      "text/plain": [
       "0.10299539170506912"
      ]
     },
     "execution_count": 297,
     "metadata": {},
     "output_type": "execute_result"
    }
   ],
   "source": [
    "p0_ml[546]"
   ]
  },
  {
   "cell_type": "code",
   "execution_count": 300,
   "metadata": {},
   "outputs": [
    {
     "data": {
      "text/plain": [
       "88"
      ]
     },
     "execution_count": 300,
     "metadata": {},
     "output_type": "execute_result"
    }
   ],
   "source": [
    "np.sum(zero_matrix_ml[546]<0.05)"
   ]
  },
  {
   "cell_type": "code",
   "execution_count": 292,
   "metadata": {},
   "outputs": [
    {
     "data": {
      "text/plain": [
       "0.06290410132847155"
      ]
     },
     "execution_count": 292,
     "metadata": {},
     "output_type": "execute_result"
    }
   ],
   "source": [
    "plt.figure()\n",
    "plt.hst(p0_dd)\n",
    "plt.show()"
   ]
  },
  {
   "cell_type": "code",
   "execution_count": 303,
   "metadata": {},
   "outputs": [
    {
     "ename": "TypeError",
     "evalue": "only integer scalar arrays can be converted to a scalar index",
     "output_type": "error",
     "traceback": [
      "\u001b[0;31m---------------------------------------------------------------------------\u001b[0m",
      "\u001b[0;31mTypeError\u001b[0m                                 Traceback (most recent call last)",
      "\u001b[0;32m<ipython-input-303-22877af6002e>\u001b[0m in \u001b[0;36m<module>\u001b[0;34m()\u001b[0m\n\u001b[0;32m----> 1\u001b[0;31m \u001b[0mgene_list\u001b[0m\u001b[0;34m[\u001b[0m\u001b[0mzero_matrix_ml\u001b[0m\u001b[0;34m[\u001b[0m\u001b[0;36m546\u001b[0m\u001b[0;34m]\u001b[0m\u001b[0;34m<\u001b[0m\u001b[0;36m0.03\u001b[0m\u001b[0;34m]\u001b[0m\u001b[0;34m\u001b[0m\u001b[0m\n\u001b[0m",
      "\u001b[0;31mTypeError\u001b[0m: only integer scalar arrays can be converted to a scalar index"
     ]
    }
   ],
   "source": [
    "for i in np.arange(len(gene_list))[zero_matrix_ml[546]<0.03]\n",
    "gene_list[zero_matrix_ml[546]<0.03]"
   ]
  },
  {
   "cell_type": "code",
   "execution_count": 302,
   "metadata": {},
   "outputs": [
    {
     "data": {
      "text/plain": [
       "41"
      ]
     },
     "execution_count": 302,
     "metadata": {},
     "output_type": "execute_result"
    }
   ],
   "source": [
    "np.sum(zero_matrix_ml[546]<0.03)"
   ]
  },
  {
   "cell_type": "code",
   "execution_count": 289,
   "metadata": {},
   "outputs": [
    {
     "data": {
      "text/plain": [
       "0.06290410132847155"
      ]
     },
     "execution_count": 289,
     "metadata": {},
     "output_type": "execute_result"
    }
   ],
   "source": [
    "p0_dd[546]"
   ]
  },
  {
   "cell_type": "code",
   "execution_count": null,
   "metadata": {
    "collapsed": true
   },
   "outputs": [],
   "source": []
  },
  {
   "cell_type": "code",
   "execution_count": 285,
   "metadata": {},
   "outputs": [
    {
     "data": {
      "text/plain": [
       "32298"
      ]
     },
     "execution_count": 285,
     "metadata": {},
     "output_type": "execute_result"
    }
   ],
   "source": [
    "temp = np.exp(-smi_dd*20)\n",
    "np.sum(temp<0.75)"
   ]
  },
  {
   "cell_type": "code",
   "execution_count": 268,
   "metadata": {},
   "outputs": [
    {
     "data": {
      "text/plain": [
       "2133"
      ]
     },
     "execution_count": 268,
     "metadata": {},
     "output_type": "execute_result"
    }
   ],
   "source": [
    "len(gene_list)"
   ]
  },
  {
   "cell_type": "code",
   "execution_count": 269,
   "metadata": {},
   "outputs": [
    {
     "data": {
      "text/plain": [
       "array([[0., 0., 0., ..., 0., 0., 0.],\n",
       "       [0., 0., 0., ..., 0., 0., 0.],\n",
       "       [0., 0., 0., ..., 0., 0., 0.],\n",
       "       ...,\n",
       "       [0., 0., 0., ..., 0., 0., 0.],\n",
       "       [0., 0., 0., ..., 0., 0., 0.],\n",
       "       [0., 0., 0., ..., 0., 0., 0.]])"
      ]
     },
     "execution_count": 269,
     "metadata": {},
     "output_type": "execute_result"
    }
   ],
   "source": [
    "np.sum"
   ]
  },
  {
   "cell_type": "code",
   "execution_count": null,
   "metadata": {
    "collapsed": true
   },
   "outputs": [],
   "source": []
  },
  {
   "cell_type": "code",
   "execution_count": null,
   "metadata": {
    "collapsed": true
   },
   "outputs": [],
   "source": []
  },
  {
   "cell_type": "code",
   "execution_count": null,
   "metadata": {
    "collapsed": true
   },
   "outputs": [],
   "source": []
  },
  {
   "cell_type": "code",
   "execution_count": 8,
   "metadata": {
    "collapsed": true
   },
   "outputs": [],
   "source": [
    "gene_list_ = np.array(data.var_names)"
   ]
  },
  {
   "cell_type": "code",
   "execution_count": 13,
   "metadata": {
    "collapsed": true
   },
   "outputs": [],
   "source": [
    "def get_PC_dd(cov_dd,mean_dd,PC_prune=1):\n",
    "    ## clip the variance estimation to be 0: ???\n",
    "    diag_cov_dd = np.diag(cov_dd)\n",
    "    \n",
    "    ## bad indeces\n",
    "    index_bad = np.zeros([G],dtype=bool)\n",
    "    index_bad[diag_cov_dd<=0.005] = True\n",
    "#     index_bad[(diag_cov_dd/mean_dd)<0.05] = True\n",
    "        \n",
    "    print(np.sum(index_bad))\n",
    "    #plt.figure()\n",
    "    #plt.hist(diag_cov_dd/mean_dd,bins=np.linspace(0,2,101))\n",
    "    #plt.show()\n",
    "    \n",
    "    np.fill_diagonal(cov_dd,diag_cov_dd.clip(min=1e-12))\n",
    "        \n",
    "    ## Pearson correlation\n",
    "    std_dd = np.sqrt(diag_cov_dd)    \n",
    "    #std_dd = np.sqrt(diag_cov_dd)\n",
    "    std_dd = std_dd.reshape([G,1])\n",
    "    PC_dd = cov_dd/(std_dd.dot(std_dd.T))\n",
    "    PC_dd = PC_dd.clip(min=-1,max=1)\n",
    "    \n",
    "    ## for the bad index, remove the estimation: ???\n",
    "    if PC_prune:\n",
    "        PC_dd[:,index_bad] = 0\n",
    "        PC_dd[index_bad,:] = 0\n",
    "    return PC_dd"
   ]
  },
  {
   "cell_type": "code",
   "execution_count": 14,
   "metadata": {},
   "outputs": [
    {
     "name": "stdout",
     "output_type": "stream",
     "text": [
      "407\n"
     ]
    }
   ],
   "source": [
    "PC_dd = get_PC_dd(cov_dd,mean_dd)"
   ]
  },
  {
   "cell_type": "markdown",
   "metadata": {
    "collapsed": true
   },
   "source": [
    "# gene_net"
   ]
  },
  {
   "cell_type": "code",
   "execution_count": 186,
   "metadata": {
    "collapsed": true
   },
   "outputs": [],
   "source": [
    "pwd='./figures/figure_gene_network_VN/'"
   ]
  },
  {
   "cell_type": "code",
   "execution_count": 178,
   "metadata": {
    "collapsed": true
   },
   "outputs": [],
   "source": [
    "import csv\n",
    "def write_NET_csv(knn,gnames,outfile):\n",
    "    adj_csv = []\n",
    "    adj_csv= [['']+[i for i in gnames]]\n",
    "    for i in range(knn.shape[0]):\n",
    "        adj_csv+= [ [gnames[i]]+[j for j in knn[:,i]]  ]\n",
    "\n",
    "    myFile = open(outfile, 'w')\n",
    "    with myFile:\n",
    "        writer = csv.writer(myFile,delimiter=';')\n",
    "        writer.writerows(adj_csv)"
   ]
  },
  {
   "cell_type": "code",
   "execution_count": 111,
   "metadata": {
    "collapsed": true
   },
   "outputs": [],
   "source": [
    "def rnn(D,t,metric='similarity',weight=False):\n",
    "    A=np.zeros_like(D)\n",
    "    if metric=='similarity':\n",
    "        np.fill_diagonal(D,0) #exclude self\n",
    "        A=D>t\n",
    "        np.fill_diagonal(A,0)\n",
    "        return np.array(A,dtype=int)\n",
    "    elif metric=='distance':\n",
    "        np.fill_diagonal(D,np.max(D)+1) #exclude self\n",
    "        if weight:\n",
    "            for i in range(D.shape[0]):\n",
    "                neigh = np.where(D[:,i]<t)[0]\n",
    "                A[neigh,i] = D[neigh,i]\n",
    "            return np.array(A,dtype=float)\n",
    "        else:\n",
    "            A=D<t\n",
    "            np.fill_diagonal(A,0)\n",
    "            return np.array(A,dtype=int)\n",
    "    else:\n",
    "        print('error')\n",
    "        return -1    "
   ]
  },
  {
   "cell_type": "code",
   "execution_count": 84,
   "metadata": {
    "collapsed": true
   },
   "outputs": [],
   "source": [
    "def knn(D,k=10,metric='similarity',weight=False):\n",
    "    if metric=='similarity':\n",
    "        np.fill_diagonal(D,0) #exclude self\n",
    "        A=np.zeros_like(D)\n",
    "        for i in range(D.shape[0]):\n",
    "            neigh = np.argsort(D[:,i])[::-1][:k]\n",
    "            A[neigh,i] = 1\n",
    "        np.fill_diagonal(A,0)\n",
    "        return A\n",
    "    elif metric=='distance':\n",
    "        np.fill_diagonal(D,np.max(D)+1) #exclude self\n",
    "        A=np.zeros_like(D)\n",
    "        for i in range(D.shape[0]):\n",
    "            neigh = np.argsort(D[:,i])[:k]\n",
    "            if weight:\n",
    "                A[neigh,i] = D[neigh,i]\n",
    "            else:\n",
    "                A[neigh,i] = 1\n",
    "        np.fill_diagonal(A,0)\n",
    "        return A\n",
    "    else:\n",
    "        print('error')\n",
    "        return -1       "
   ]
  },
  {
   "cell_type": "markdown",
   "metadata": {},
   "source": [
    "### MI_dd"
   ]
  },
  {
   "cell_type": "code",
   "execution_count": 39,
   "metadata": {
    "collapsed": true
   },
   "outputs": [],
   "source": [
    "nnz=(smi_dd.sum(axis=1)>0)\n",
    "D=smi_dd[:,nnz][nnz,:]\n",
    "gene_list_D =gene_list_[nnz]"
   ]
  },
  {
   "cell_type": "code",
   "execution_count": 54,
   "metadata": {
    "collapsed": true
   },
   "outputs": [],
   "source": [
    "A=knn(D,k=10)"
   ]
  },
  {
   "cell_type": "code",
   "execution_count": 55,
   "metadata": {
    "collapsed": true
   },
   "outputs": [],
   "source": [
    "outfile=pwd+'gene_net_MIdd_k10.csv'\n",
    "write_NET_csv(A,gene_list_D,outfile)"
   ]
  },
  {
   "cell_type": "code",
   "execution_count": 80,
   "metadata": {},
   "outputs": [
    {
     "name": "stdout",
     "output_type": "stream",
     "text": [
      "798\n"
     ]
    }
   ],
   "source": [
    "A=rnn(D,t=0.01)\n",
    "print((A.sum(axis=1)>0).sum())"
   ]
  },
  {
   "cell_type": "code",
   "execution_count": 75,
   "metadata": {
    "collapsed": true
   },
   "outputs": [],
   "source": [
    "nnz=(A.sum(axis=1)>0)\n",
    "R=A[:,nnz][nnz,:]\n",
    "gene_list_R =gene_list_D[nnz]\n",
    "outfile=pwd+'gene_net_MIdd_r0_01.csv'\n",
    "write_NET_csv(R,gene_list_R,outfile)"
   ]
  },
  {
   "cell_type": "markdown",
   "metadata": {},
   "source": [
    "### PC_dd"
   ]
  },
  {
   "cell_type": "code",
   "execution_count": 97,
   "metadata": {},
   "outputs": [
    {
     "name": "stdout",
     "output_type": "stream",
     "text": [
      "407\n",
      "(1424, 1424)\n"
     ]
    }
   ],
   "source": [
    "PC_dd = get_PC_dd(cov_dd,mean_dd)\n",
    "nnz=(PC_dd.sum(axis=1)>0)\n",
    "D=PC_dd[:,nnz][nnz,:]\n",
    "gene_list_D =gene_list_[nnz]\n",
    "\n",
    "print(D.shape)"
   ]
  },
  {
   "cell_type": "code",
   "execution_count": 121,
   "metadata": {},
   "outputs": [
    {
     "name": "stdout",
     "output_type": "stream",
     "text": [
      "1377\n"
     ]
    }
   ],
   "source": [
    "A=rnn(1-D,t=.1,metric='distance',weight=True)\n",
    "print((A.sum(axis=1)>0).sum())"
   ]
  },
  {
   "cell_type": "code",
   "execution_count": 122,
   "metadata": {},
   "outputs": [
    {
     "data": {
      "text/plain": [
       "29552"
      ]
     },
     "execution_count": 122,
     "metadata": {},
     "output_type": "execute_result"
    }
   ],
   "source": [
    "np.sum(A>0)"
   ]
  },
  {
   "cell_type": "code",
   "execution_count": 123,
   "metadata": {
    "collapsed": true
   },
   "outputs": [],
   "source": [
    "outfile=pwd+'gene_net_PCdd_r0_1_weight.csv'\n",
    "write_NET_csv(A,gene_list_D,outfile)"
   ]
  },
  {
   "cell_type": "markdown",
   "metadata": {},
   "source": [
    "# NAIVE approach"
   ]
  },
  {
   "cell_type": "code",
   "execution_count": 126,
   "metadata": {
    "collapsed": true
   },
   "outputs": [],
   "source": [
    "from scipy.spatial.distance import correlation\n",
    "from sklearn.neighbors import NearestNeighbors"
   ]
  },
  {
   "cell_type": "code",
   "execution_count": 124,
   "metadata": {},
   "outputs": [
    {
     "name": "stdout",
     "output_type": "stream",
     "text": [
      "Variable names are not unique. To make them unique, call `.var_names_make_unique`.\n"
     ]
    }
   ],
   "source": [
    "data4k = dl.load_10x_4k()"
   ]
  },
  {
   "cell_type": "code",
   "execution_count": 127,
   "metadata": {
    "collapsed": true
   },
   "outputs": [],
   "source": [
    "nbrs = NearestNeighbors(n_neighbors=11, metric='correlation') "
   ]
  },
  {
   "cell_type": "code",
   "execution_count": 128,
   "metadata": {},
   "outputs": [
    {
     "name": "stdout",
     "output_type": "stream",
     "text": [
      "Variable names are not unique. To make them unique, call `.var_names_make_unique`.\n"
     ]
    }
   ],
   "source": [
    "bd=data4k.copy()\n"
   ]
  },
  {
   "cell_type": "code",
   "execution_count": 130,
   "metadata": {
    "collapsed": true
   },
   "outputs": [],
   "source": [
    "TOP_GENES=2000\n",
    "\n",
    "\n",
    "sc.pp.filter_genes(bd, min_counts=0.025*bd.shape[0])  # only consider genes with more than xx counts\n",
    "sc.pp.normalize_per_cell(bd)          # normalize with total UMI count per cell\n",
    "filter_result = sc.pp.filter_genes_dispersion(bd.X, flavor='cell_ranger', n_top_genes=TOP_GENES,log=False)\n"
   ]
  },
  {
   "cell_type": "code",
   "execution_count": 131,
   "metadata": {
    "collapsed": true
   },
   "outputs": [],
   "source": [
    "bd = bd[:, filter_result.gene_subset]\n",
    "sc.pp.normalize_per_cell(bd)"
   ]
  },
  {
   "cell_type": "code",
   "execution_count": 141,
   "metadata": {},
   "outputs": [
    {
     "data": {
      "text/plain": [
       "(4340, 2000)"
      ]
     },
     "execution_count": 141,
     "metadata": {},
     "output_type": "execute_result"
    }
   ],
   "source": [
    "bd.X.shape"
   ]
  },
  {
   "cell_type": "code",
   "execution_count": 136,
   "metadata": {
    "collapsed": true
   },
   "outputs": [],
   "source": [
    "bd.X = bd.X.todense()\n",
    "nbrs.fit(bd.X.T) \n",
    "A = nbrs.kneighbors_graph(bd.X.T,mode='distance')"
   ]
  },
  {
   "cell_type": "code",
   "execution_count": 142,
   "metadata": {
    "collapsed": true
   },
   "outputs": [],
   "source": [
    "knn=np.array(A.toarray())\n",
    "# knn[knn<1e-5] =0\n",
    "knn[knn>0.9] =0"
   ]
  },
  {
   "cell_type": "code",
   "execution_count": 143,
   "metadata": {
    "collapsed": true
   },
   "outputs": [],
   "source": [
    "nnz=np.where((knn>0).sum(axis=0)>0)[0]\n",
    "knn=knn[:,nnz][nnz,:]"
   ]
  },
  {
   "cell_type": "code",
   "execution_count": 144,
   "metadata": {},
   "outputs": [
    {
     "data": {
      "text/plain": [
       "(1034, 1034)"
      ]
     },
     "execution_count": 144,
     "metadata": {},
     "output_type": "execute_result"
    }
   ],
   "source": [
    "knn.shape"
   ]
  },
  {
   "cell_type": "code",
   "execution_count": 145,
   "metadata": {
    "collapsed": true
   },
   "outputs": [],
   "source": [
    "gnames=np.array(bd.var_names)[nnz]\n",
    "outfile=pwd+'gene_net_naive.csv'\n",
    "write_NET_csv(knn,gnames,outfile)"
   ]
  },
  {
   "cell_type": "markdown",
   "metadata": {},
   "source": [
    "### 8k"
   ]
  },
  {
   "cell_type": "code",
   "execution_count": 146,
   "metadata": {},
   "outputs": [
    {
     "name": "stdout",
     "output_type": "stream",
     "text": [
      "Variable names are not unique. To make them unique, call `.var_names_make_unique`.\n"
     ]
    }
   ],
   "source": [
    "data8k = dl.load_10x_8k()"
   ]
  },
  {
   "cell_type": "code",
   "execution_count": 147,
   "metadata": {},
   "outputs": [
    {
     "name": "stdout",
     "output_type": "stream",
     "text": [
      "Variable names are not unique. To make them unique, call `.var_names_make_unique`.\n"
     ]
    }
   ],
   "source": [
    "bd=data8k.copy()\n"
   ]
  },
  {
   "cell_type": "code",
   "execution_count": 148,
   "metadata": {
    "collapsed": true
   },
   "outputs": [],
   "source": [
    "TOP_GENES=2000\n",
    "\n",
    "\n",
    "sc.pp.filter_genes(bd, min_counts=0.025*bd.shape[0])  # only consider genes with more than xx counts\n",
    "sc.pp.normalize_per_cell(bd)          # normalize with total UMI count per cell\n",
    "filter_result = sc.pp.filter_genes_dispersion(bd.X, flavor='cell_ranger', n_top_genes=TOP_GENES,log=False)\n"
   ]
  },
  {
   "cell_type": "code",
   "execution_count": 149,
   "metadata": {
    "collapsed": true
   },
   "outputs": [],
   "source": [
    "bd = bd[:, filter_result.gene_subset]\n",
    "sc.pp.normalize_per_cell(bd)"
   ]
  },
  {
   "cell_type": "code",
   "execution_count": 150,
   "metadata": {},
   "outputs": [
    {
     "data": {
      "text/plain": [
       "(8381, 1999)"
      ]
     },
     "execution_count": 150,
     "metadata": {},
     "output_type": "execute_result"
    }
   ],
   "source": [
    "bd.X.shape"
   ]
  },
  {
   "cell_type": "code",
   "execution_count": 151,
   "metadata": {
    "collapsed": true
   },
   "outputs": [],
   "source": [
    "bd.X = bd.X.todense()\n",
    "nbrs.fit(bd.X.T) \n",
    "A = nbrs.kneighbors_graph(bd.X.T,mode='distance')"
   ]
  },
  {
   "cell_type": "code",
   "execution_count": 152,
   "metadata": {
    "collapsed": true
   },
   "outputs": [],
   "source": [
    "knn=np.array(A.toarray())\n",
    "# knn[knn<1e-5] =0\n",
    "knn[knn>0.9] =0"
   ]
  },
  {
   "cell_type": "code",
   "execution_count": 153,
   "metadata": {
    "collapsed": true
   },
   "outputs": [],
   "source": [
    "nnz=np.where((knn>0).sum(axis=0)>0)[0]\n",
    "knn=knn[:,nnz][nnz,:]"
   ]
  },
  {
   "cell_type": "code",
   "execution_count": 154,
   "metadata": {},
   "outputs": [
    {
     "data": {
      "text/plain": [
       "(878, 878)"
      ]
     },
     "execution_count": 154,
     "metadata": {},
     "output_type": "execute_result"
    }
   ],
   "source": [
    "knn.shape"
   ]
  },
  {
   "cell_type": "code",
   "execution_count": 155,
   "metadata": {
    "collapsed": true
   },
   "outputs": [],
   "source": [
    "gnames=np.array(bd.var_names)[nnz]\n",
    "outfile=pwd+'gene_net_naive8k.csv'\n",
    "write_NET_csv(knn,gnames,outfile)"
   ]
  },
  {
   "cell_type": "code",
   "execution_count": null,
   "metadata": {
    "collapsed": true
   },
   "outputs": [],
   "source": []
  }
 ],
 "metadata": {
  "kernelspec": {
   "display_name": "Python 3",
   "language": "python",
   "name": "python3"
  },
  "language_info": {
   "codemirror_mode": {
    "name": "ipython",
    "version": 3
   },
   "file_extension": ".py",
   "mimetype": "text/x-python",
   "name": "python",
   "nbconvert_exporter": "python",
   "pygments_lexer": "ipython3",
   "version": "3.6.3"
  }
 },
 "nbformat": 4,
 "nbformat_minor": 2
}
