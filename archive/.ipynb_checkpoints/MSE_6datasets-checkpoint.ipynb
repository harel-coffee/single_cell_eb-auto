{
 "cells": [
  {
   "cell_type": "code",
   "execution_count": 1,
   "metadata": {},
   "outputs": [
    {
     "name": "stderr",
     "output_type": "stream",
     "text": [
      "/home/martin/anaconda3/lib/python3.6/site-packages/h5py/__init__.py:34: FutureWarning: Conversion of the second argument of issubdtype from `float` to `np.floating` is deprecated. In future, it will be treated as `np.float64 == np.dtype(float).type`.\n",
      "  from ._conv import register_converters as _register_converters\n"
     ]
    }
   ],
   "source": [
    "import numpy as np\n",
    "import scipy as sp\n",
    "import matplotlib.pyplot as plt\n",
    "import matplotlib.cm as cm\n",
    "import pandas as pd\n",
    "import h5py\n",
    "import os\n",
    "import time\n",
    "\n",
    "from util import *\n",
    "from data_loader import * \n",
    "import scdd as sd\n",
    "\n",
    "%matplotlib inline\n",
    "%load_ext autoreload\n",
    "%autoreload 2"
   ]
  },
  {
   "cell_type": "code",
   "execution_count": 2,
   "metadata": {
    "collapsed": true
   },
   "outputs": [],
   "source": [
    "dataset={}\n",
    "dataname = ['brain9k','brain1k','PBMC8k','PBMC68k','brain2k','brain1.3m']\n",
    "dataset['brain9k'] = load_10x_9k() ## 9k brain cells \n",
    "dataset['brain1k'] = load_10x_1k() ## 1k brain cells \n",
    "dataset['PBMC8k'] = load_10x_8k() ## 8k PBMC cells \n",
    "dataset['PBMC68k'] = load_10x_68k() ## 68k PBMC cells \n",
    "dataset['brain2k'] = load_10x_2k() ## 2k brain cells \n",
    "# dataset['brain1.3m'] = load_10x_1_3mil() ## 1.3 million brain cells \n",
    "dataset['PBMC4k'] = load_10x_4k()"
   ]
  },
  {
   "cell_type": "markdown",
   "metadata": {},
   "source": [
    "# MSE consistency"
   ]
  },
  {
   "cell_type": "code",
   "execution_count": 4,
   "metadata": {
    "scrolled": true
   },
   "outputs": [
    {
     "name": "stdout",
     "output_type": "stream",
     "text": [
      "## processing brain9k ...\n",
      "# raw data: n_cell=9128, n_gene=27998\n",
      "# after filtering: n_cell=9128, n_gene=7578\n",
      "\n",
      "\n",
      "## processing brain1k ...\n",
      "# raw data: n_cell=931, n_gene=27998\n",
      "# after filtering: n_cell=931, n_gene=8124\n",
      "\n",
      "\n",
      "## processing PBMC8k ...\n",
      "# raw data: n_cell=8381, n_gene=33694\n",
      "# after filtering: n_cell=8381, n_gene=4329\n",
      "\n",
      "\n",
      "## processing PBMC68k ...\n",
      "# raw data: n_cell=68579, n_gene=32738\n",
      "# after filtering: n_cell=68579, n_gene=1385\n",
      "\n",
      "\n",
      "## processing brain2k ...\n",
      "# raw data: n_cell=2022, n_gene=27998\n",
      "# after filtering: n_cell=2022, n_gene=7060\n",
      "\n",
      "\n",
      "## processing PBMC4k ...\n",
      "# raw data: n_cell=4340, n_gene=33694\n",
      "# after filtering: n_cell=4340, n_gene=4039\n",
      "\n",
      "\n"
     ]
    }
   ],
   "source": [
    "M,M_ml,M_nsf,M_ml_nsf,gene_list,gene_list_nsf = {},{},{},{},{},{}\n",
    "pdata = {}\n",
    "\n",
    "for dname in dataset.keys():\n",
    "    if dname=='brain1.3m': break\n",
    "    print('## processing %s ...'%dname)\n",
    "    print('# raw data: n_cell=%d, n_gene=%d'%(dataset[dname].shape[0],dataset[dname].shape[1]))\n",
    "    temp = dataset[dname].copy()\n",
    "#     sc.pp.filter_cells(temp, min_counts=0.5*temp.shape[1])\n",
    "    gamma_c = sd.sf(temp,verbose=False)\n",
    "    sc.pp.filter_genes(temp,min_counts=0.1*temp.shape[0])\n",
    "    print('# after filtering: n_cell=%d, n_gene=%d'%(temp.shape[0],temp.shape[1]))\n",
    "    pdata[dname] = temp\n",
    "    M_,M_ml_,gene_list_ = sd.dd_moment_anndata(temp,gamma_c=gamma_c,verbose=False,k=4)\n",
    "    M_nsf_,M_ml_nsf_,gene_list_nsf_ = sd.dd_moment_anndata(temp,gamma_c=None,verbose=False,k=4)\n",
    "    \n",
    "    M[dname],M_ml[dname],M_nsf[dname],M_ml_nsf[dname],gene_list[dname],gene_list_nsf[dname] = \\\n",
    "    M_,M_ml_,M_nsf_,M_ml_nsf_,gene_list_,gene_list_nsf_\n",
    "    print('\\n')\n",
    "#     if dname=='PBMC8k': break"
   ]
  },
  {
   "cell_type": "code",
   "execution_count": 5,
   "metadata": {
    "collapsed": true
   },
   "outputs": [],
   "source": [
    "## change all the gene names to upper-case \n",
    "for gl in gene_list.keys():\n",
    "    temp = gene_list[gl]\n",
    "    for i in range(len(temp)):\n",
    "        temp[i] = temp[i].upper()\n",
    "    gene_list[gl] = temp\n",
    "for gl in gene_list.keys():\n",
    "    temp = gene_list_nsf[gl]\n",
    "    for i in range(len(temp)):\n",
    "        temp[i] = temp[i].upper()\n",
    "    gene_list_nsf[gl] = temp"
   ]
  },
  {
   "cell_type": "code",
   "execution_count": 6,
   "metadata": {
    "collapsed": true
   },
   "outputs": [],
   "source": [
    "## MSE bound \n",
    "def param_cal(data):\n",
    "    Nc,G = data.shape[0],data.shape[1]\n",
    "    B = data.X.sum()\n",
    "    Nr = B/Nc\n",
    "    print('Nr=%0.2f, Nr_bar=%0.2f, Nc=%d, G=%d, B=%d'%(Nr,Nr/G,Nc,G,B))\n",
    "    return Nr,Nc,G,B\n",
    "\n",
    "\n",
    "def opt_alpha(M):\n",
    "    M1,M2,M3,M4 = M[:,0],M[:,1],M[:,2],M[:,3]\n",
    "    M2 = M2.clip(min=1e-4)\n",
    "    var_x2 = M4 - M2**2       \n",
    "    alpha_opt = np.sqrt((var_x2/M2**2).sum()/(2/M2).sum())        \n",
    "    return alpha_opt\n",
    "\n",
    "# M is the moments for lambda_cg\n",
    "def opt_Nr_single(M):\n",
    "    M1,M2,M3,M4 = M[:,0],M[:,1],M[:,2],M[:,3]\n",
    "    var_x2 = (M4 - M2**2).clip(min=0)   \n",
    "    alpha_opt = np.sqrt(var_x2/2/M2)\n",
    "    return M1[var_x2>0]/alpha_opt[var_x2>0]\n",
    "\n",
    "\n",
    "def bound_MSE(M,data,alpha,verbose=True,color='orange',label=None):\n",
    "    Nr,Nc,B = param_cal(data_8k)\n",
    "    M1,M2,M3,M4 = M[:,0],M[:,1],M[:,2],M[:,3]\n",
    "    G = M1.shape[0]\n",
    "    M2 = M2.clip(min=1e-4)\n",
    "    var_x2 = M4 - M2**2    \n",
    "    RMSE = var_x2/M2**2/alpha + 4*M3/M2**2 + alpha*2/M2\n",
    "    RMSE = RMSE/Nc\n",
    "    \n",
    "    cv = np.sqrt( (M2-M1**2).clip(min=1e-4))/M1\n",
    "\n",
    "    if verbose: \n",
    "        plt.title('alpha=%0.3f'%alpha)\n",
    "#         plt.scatter(np.log10(M1.clip(min=1e-2)),np.log10(RMSE.clip(min=1e-6)),color=color,alpha=0.1,label=label)\n",
    "        plt.scatter(np.log10(cv.clip(min=1e-4)),np.log10(RMSE.clip(min=1e-6)),color=color,alpha=0.1,label=label)\n",
    "#         plt.scatter(cv.clip(min=1e-4),np.log10(RMSE.clip(min=1e-6)),color=color,alpha=0.1,label=label)\n",
    "#         plt.xlabel('log mean')\n",
    "        plt.xlabel('log10 cv')\n",
    "        plt.ylabel('log10 RMSE')\n",
    "        print('mean RMSE=%0.4f',RMSE.mean())\n",
    "    return RMSE, cv\n",
    "\n",
    "\n",
    "    "
   ]
  },
  {
   "cell_type": "code",
   "execution_count": 17,
   "metadata": {},
   "outputs": [
    {
     "data": {
      "image/png": "[encoded data removed]",
      "text/plain": [
       "<matplotlib.figure.Figure at 0x7fda3800ea90>"
      ]
     },
     "metadata": {},
     "output_type": "display_data"
    }
   ],
   "source": [
    "plt.figure(figsize=[18,5])\n",
    "for dname in ['PBMC4k','PBMC8k','PBMC68k']:\n",
    "    Nr_opt = opt_Nr_single(M_nsf[dname][M_nsf[dname][:,0]>1,:])\n",
    "    temp = Nr_opt.shape[0]\n",
    "    plt.hist(Nr_opt,bins=np.linspace(-1,5,20),weights=1/temp*np.ones([temp]),alpha=0.3,label=dname)\n",
    "plt.xlabel('optimal average read count per gene per cell')\n",
    "plt.legend()\n",
    "plt.show()"
   ]
  },
  {
   "cell_type": "code",
   "execution_count": 18,
   "metadata": {},
   "outputs": [
    {
     "data": {
      "image/png": "[encoded data removed]",
      "text/plain": [
       "<matplotlib.figure.Figure at 0x7fda380d96a0>"
      ]
     },
     "metadata": {},
     "output_type": "display_data"
    }
   ],
   "source": [
    "plt.figure(figsize=[18,5])\n",
    "for dname in ['brain1k','brain2k','brain9k']:\n",
    "    Nr_opt = opt_Nr_single(M_nsf[dname][M_nsf[dname][:,0]>1,:])\n",
    "    temp = Nr_opt.shape[0]\n",
    "    plt.hist(Nr_opt,bins=np.linspace(-1,5,20),weights=1/temp*np.ones([temp]),alpha=0.3,label=dname)\n",
    "plt.xlabel('optimal average read count per gene per cell')\n",
    "plt.legend()\n",
    "plt.show()"
   ]
  },
  {
   "cell_type": "code",
   "execution_count": 21,
   "metadata": {},
   "outputs": [
    {
     "name": "stdout",
     "output_type": "stream",
     "text": [
      "1074\n",
      "### brain1k\n",
      "Nr=8111.96, Nr_bar=7.55, Nc=931, G=1074, B=7552238\n",
      "7.68860084775415 0.9823684141829517 7158.0873892591135\n",
      "\n",
      "\n",
      "### brain2k\n",
      "Nr=5307.19, Nr_bar=4.94, Nc=2022, G=1074, B=10731139\n",
      "3.2027295519160797 1.542908318785705 6475.919153974313\n",
      "\n",
      "\n",
      "### brain9k\n",
      "Nr=4905.27, Nr_bar=4.57, Nc=9128, G=1074, B=44775264\n",
      "4.674929961438572 0.9769742869213226 42672.76068801129\n",
      "\n",
      "\n"
     ]
    }
   ],
   "source": [
    "## find the common genes \n",
    "gene_set = []\n",
    "data_list = ['brain1k','brain2k','brain9k']\n",
    "for gene in gene_list['brain1k']:\n",
    "    if_skip=0\n",
    "    for dname in data_list: \n",
    "        if gene in gene_list[dname]:\n",
    "            temp = gene_list[dname].index(gene)\n",
    "        else:\n",
    "            if_skip=1\n",
    "            break\n",
    "        if M_ml_nsf[dname][temp,0]<1:\n",
    "            if_skip=1\n",
    "            break\n",
    "    if if_skip==0:\n",
    "        gene_set.append(gene)\n",
    "print(len(gene_set))\n",
    "\n",
    "idx={}\n",
    "for dname in data_list:\n",
    "    idx[dname]=[]\n",
    "for gene in gene_set:\n",
    "    #print('# %s'%gene)\n",
    "    for dname in data_list:\n",
    "        temp = gene_list[dname].index(gene)\n",
    "        idx[dname].append(temp)\n",
    "        #print('%s :%0.2f'%(dname,M_ml_nsf[dname][temp,0]))      \n",
    "        \n",
    "for dname in data_list:\n",
    "    print('### %s'%dname)\n",
    "    gene_idx = idx[dname]\n",
    "    Nr,Nc,G,B = param_cal(pdata[dname][:,gene_idx])\n",
    "    alpha_opt = opt_alpha(M_nsf[dname][gene_idx,:])\n",
    "    print('alpha_opt=%0.2f, opt mean rct pgpc=%0.2f, opt N_c=%d'%(alpha_opt,Nr/G/alpha_opt,Nc*alpha_opt))\n",
    "    print(alpha_opt,Nr/G/alpha_opt,Nc*alpha_opt)\n",
    "    print('\\n')  "
   ]
  },
  {
   "cell_type": "code",
   "execution_count": 25,
   "metadata": {},
   "outputs": [
    {
     "name": "stdout",
     "output_type": "stream",
     "text": [
      "164\n",
      "### PBMC4k\n",
      "Nr=2523.45, Nr_bar=15.39, Nc=4340, G=164, B=10951788\n",
      "12.249414474319643 1.2561344340727403 53162.45881854725\n",
      "\n",
      "\n",
      "### PBMC8k\n",
      "Nr=2654.66, Nr_bar=16.19, Nc=8381, G=164, B=22248680\n",
      "11.979427425771362 1.3512275771523343 100399.58125538978\n",
      "\n",
      "\n",
      "### PBMC68k\n",
      "Nr=863.71, Nr_bar=5.27, Nc=68579, G=164, B=59232032\n",
      "4.048072851287313 1.3009880753052279 277612.78806843265\n",
      "\n",
      "\n"
     ]
    }
   ],
   "source": [
    "## find the common genes \n",
    "gene_set = []\n",
    "data_list = ['PBMC4k','PBMC8k','PBMC68k']\n",
    "for gene in gene_list['PBMC4k']:\n",
    "    if_skip=0\n",
    "    for dname in data_list: \n",
    "        if gene in gene_list[dname]:\n",
    "            temp = gene_list[dname].index(gene)\n",
    "        else:\n",
    "            if_skip=1\n",
    "            break\n",
    "        if M_ml_nsf[dname][temp,0]<1:\n",
    "            if_skip=1\n",
    "            break\n",
    "    if if_skip==0:\n",
    "        gene_set.append(gene)\n",
    "print(len(gene_set))\n",
    "\n",
    "idx={}\n",
    "for dname in data_list:\n",
    "    idx[dname]=[]\n",
    "for gene in gene_set:\n",
    "    #print('# %s'%gene)\n",
    "    for dname in data_list:\n",
    "        temp = gene_list[dname].index(gene)\n",
    "        idx[dname].append(temp)\n",
    "        #print('%s :%0.2f'%(dname,M_ml_nsf[dname][temp,0]))      \n",
    "        \n",
    "for dname in data_list:\n",
    "    print('### %s'%dname)\n",
    "    gene_idx = idx[dname]\n",
    "    Nr,Nc,G,B = param_cal(pdata[dname][:,gene_idx])\n",
    "    alpha_opt = opt_alpha(M_nsf[dname][gene_idx,:])\n",
    "    print(alpha_opt,Nr/G/alpha_opt,Nc*alpha_opt)\n",
    "    print('\\n')  "
   ]
  },
  {
   "cell_type": "code",
   "execution_count": 83,
   "metadata": {
    "collapsed": true
   },
   "outputs": [
    {
     "name": "stdout",
     "output_type": "stream",
     "text": [
      "### brain9k\n",
      "Nr=5042.90, Nr_bar=4.24, Nc=9128, G=1188, B=46031628\n",
      "2.1929745114128103 1.935667145849436 20017.471340176133\n",
      "\n",
      "\n",
      "### brain1k\n",
      "Nr=9049.75, Nr_bar=5.11, Nc=931, G=1770, B=8425316\n",
      "1.252553306074694 4.081943917271296 1166.1271279555401\n",
      "\n",
      "\n",
      "### PBMC8k\n",
      "Nr=3290.79, Nr_bar=7.67, Nc=8381, G=429, B=27580132\n",
      "6.374692960863473 1.2033277604790533 53426.30170499677\n",
      "\n",
      "\n",
      "### PBMC68k\n",
      "Nr=867.87, Nr_bar=5.20, Nc=68579, G=167, B=59517600\n",
      "2.793268374008669 1.860480518893791 191559.55182114049\n",
      "\n",
      "\n",
      "### brain2k\n",
      "Nr=5471.33, Nr_bar=4.53, Nc=2022, G=1207, B=11063035\n",
      "1.61245554747726 2.811241234226041 3260.38511699902\n",
      "\n",
      "\n",
      "### brain1.3m\n",
      "Nr=2992.44, Nr_bar=3.81, Nc=1306127, G=785, B=3908503296\n",
      "2.29817979170156 1.658713644216424 3001714.6767957835\n",
      "\n",
      "\n"
     ]
    }
   ],
   "source": [
    "for dname in pdata.keys():\n",
    "    print('### %s'%dname)\n",
    "    Nr,Nc,G,B = param_cal(pdata[dname])\n",
    "    alpha_opt = opt_alpha(M_ml[dname])\n",
    "    print(alpha_opt,Nr/G/alpha_opt,Nc*alpha_opt)\n",
    "    print('\\n')"
   ]
  },
  {
   "cell_type": "code",
   "execution_count": null,
   "metadata": {
    "collapsed": true
   },
   "outputs": [],
   "source": []
  },
  {
   "cell_type": "code",
   "execution_count": null,
   "metadata": {
    "collapsed": true
   },
   "outputs": [],
   "source": []
  }
 ],
 "metadata": {
  "kernelspec": {
   "display_name": "Python 3",
   "language": "python",
   "name": "python3"
  },
  "language_info": {
   "codemirror_mode": {
    "name": "ipython",
    "version": 3
   },
   "file_extension": ".py",
   "mimetype": "text/x-python",
   "name": "python",
   "nbconvert_exporter": "python",
   "pygments_lexer": "ipython3",
   "version": "3.6.3"
  }
 },
 "nbformat": 4,
 "nbformat_minor": 2
}
