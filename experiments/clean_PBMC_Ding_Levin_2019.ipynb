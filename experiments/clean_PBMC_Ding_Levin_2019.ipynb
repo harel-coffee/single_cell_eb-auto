{
 "cells": [
  {
   "cell_type": "code",
   "execution_count": 1,
   "metadata": {},
   "outputs": [
    {
     "name": "stderr",
     "output_type": "stream",
     "text": [
      "/home/martin/anaconda3/lib/python3.6/site-packages/sklearn/externals/joblib/__init__.py:15: DeprecationWarning: sklearn.externals.joblib is deprecated in 0.21 and will be removed in 0.23. Please import this functionality directly from joblib, which can be installed with: pip install joblib. If this warning is raised when loading pickled models, you may need to re-serialize those models with scikit-learn 0.21+.\n",
      "  warnings.warn(msg, category=DeprecationWarning)\n"
     ]
    }
   ],
   "source": [
    "import os\n",
    "import numpy as np\n",
    "import scipy as sp\n",
    "import pandas as pd\n",
    "import scanpy.api as sc\n",
    "from gprofiler import GProfiler"
   ]
  },
  {
   "cell_type": "code",
   "execution_count": 2,
   "metadata": {},
   "outputs": [],
   "source": [
    "file_path = '/data/martin/single_cell/Ding_Levin_biorxiv_2019'"
   ]
  },
  {
   "cell_type": "code",
   "execution_count": 3,
   "metadata": {},
   "outputs": [],
   "source": [
    "# UMI: read data\n",
    "list_cell = list()\n",
    "with open(file_path + '/cells.umi.txt') as f:\n",
    "    for line in f:\n",
    "        list_cell.append(line.strip())\n",
    "list_gene = list()\n",
    "with open(file_path + '/genes.umi.txt') as f:\n",
    "    for line in f:\n",
    "        list_gene.append(line.strip())\n",
    "list_gene = [x.split('_')[-1] for x in list_gene]\n",
    "list_line = []\n",
    "with open(file_path + '/counts.umi.txt') as f:\n",
    "    for line in f:\n",
    "        list_line.append(line)\n",
    "# specifiy row and column\n",
    "n_row = 33694\n",
    "n_col = 44433\n",
    "# \n",
    "list_row = []\n",
    "list_col = []\n",
    "list_ct = []\n",
    "for line in list_line[2:]:\n",
    "    line = line.strip().split(' ')\n",
    "    list_row.append(int(line[0])-1)\n",
    "    list_col.append(int(line[1])-1)\n",
    "    list_ct.append(int(line[2]))"
   ]
  },
  {
   "cell_type": "code",
   "execution_count": 4,
   "metadata": {},
   "outputs": [
    {
     "name": "stderr",
     "output_type": "stream",
     "text": [
      "Variable names are not unique. To make them unique, call `.var_names_make_unique`.\n"
     ]
    }
   ],
   "source": [
    "# generate anndata object\n",
    "X = sp.sparse.csc_matrix((list_ct, (list_row, list_col)), shape=(n_row, n_col))\n",
    "anndata = sc.AnnData(X=X.T)\n",
    "anndata.obs_names = list_cell\n",
    "anndata.var_names = list_gene"
   ]
  },
  {
   "cell_type": "code",
   "execution_count": 5,
   "metadata": {},
   "outputs": [
    {
     "name": "stdout",
     "output_type": "stream",
     "text": [
      "pbmc1 10xChromiumv2 0\n",
      "pbmc1 10xChromiumv2A 5184\n"
     ]
    },
    {
     "name": "stderr",
     "output_type": "stream",
     "text": [
      "Variable names are not unique. To make them unique, call `.var_names_make_unique`.\n",
      "Variable names are not unique. To make them unique, call `.var_names_make_unique`.\n",
      "Variable names are not unique. To make them unique, call `.var_names_make_unique`.\n",
      "Variable names are not unique. To make them unique, call `.var_names_make_unique`.\n"
     ]
    },
    {
     "name": "stdout",
     "output_type": "stream",
     "text": [
      "pbmc1 10xChromiumv2B 3222\n"
     ]
    },
    {
     "name": "stderr",
     "output_type": "stream",
     "text": [
      "Variable names are not unique. To make them unique, call `.var_names_make_unique`.\n",
      "Variable names are not unique. To make them unique, call `.var_names_make_unique`.\n"
     ]
    },
    {
     "name": "stdout",
     "output_type": "stream",
     "text": [
      "pbmc2 10xChromiumv2 3362\n",
      "pbmc2 10xChromiumv2A 0\n",
      "pbmc2 10xChromiumv2B 0\n"
     ]
    }
   ],
   "source": [
    "# write files \n",
    "for data in ['pbmc1', 'pbmc2']:\n",
    "    for method in ['10xChromiumv2', '10xChromiumv2A', '10xChromiumv2B']:\n",
    "        ind_select = [(x.split('_')[0]==data) & (x.split('_')[1]==method)\n",
    "                      for x in list_cell]\n",
    "        ind_select = np.array(ind_select)\n",
    "        print(data, method, np.sum(ind_select))\n",
    "        if np.sum(ind_select)==0:\n",
    "            continue\n",
    "        temp_anndata = anndata[ind_select, :]\n",
    "        temp_anndata.write(file_path + '/%s.%s.h5ad'%(data, method))"
   ]
  },
  {
   "cell_type": "code",
   "execution_count": 6,
   "metadata": {},
   "outputs": [
    {
     "name": "stderr",
     "output_type": "stream",
     "text": [
      "Variable names are not unique. To make them unique, call `.var_names_make_unique`.\n"
     ]
    }
   ],
   "source": [
    "# bulk: PBMC 1\n",
    "temp_df = pd.read_csv(file_path + '/rsem.bulk.pbmc1.results', sep='\\t')\n",
    "temp_df.index = temp_df['gene_id']\n",
    "# find gene name\n",
    "gp = GProfiler(return_dataframe=True)\n",
    "id_2_symbol = gp.convert(organism='hsapiens', query=list(temp_df.index),\n",
    "                         target_namespace='ENTREZGENE_ACC')\n",
    "id_2_symbol.index = id_2_symbol['incoming']\n",
    "temp_df = temp_df.join(id_2_symbol[['name']])\n",
    "temp_df.index = temp_df['name']\n",
    "# convert to anndata and write \n",
    "anndata = sc.AnnData(temp_df[['TPM']].T)\n",
    "anndata.write(file_path + '/rsem.bulk.pbmc1.h5ad')"
   ]
  },
  {
   "cell_type": "code",
   "execution_count": 7,
   "metadata": {},
   "outputs": [
    {
     "name": "stderr",
     "output_type": "stream",
     "text": [
      "Variable names are not unique. To make them unique, call `.var_names_make_unique`.\n"
     ]
    }
   ],
   "source": [
    "# bulk: PBMC 2\n",
    "temp_df = pd.read_csv(file_path + '/rsem.bulk.pbmc2.results', sep='\\t')\n",
    "temp_df.index = temp_df['gene_id']\n",
    "# find gene name\n",
    "gp = GProfiler(return_dataframe=True)\n",
    "id_2_symbol = gp.convert(organism='hsapiens', query=list(temp_df.index),\n",
    "                         target_namespace='ENTREZGENE_ACC')\n",
    "id_2_symbol.index = id_2_symbol['incoming']\n",
    "temp_df = temp_df.join(id_2_symbol[['name']])\n",
    "temp_df.index = temp_df['name']\n",
    "# convert to anndata and write d\n",
    "anndata = sc.AnnData(temp_df[['TPM']].T)\n",
    "anndata.write(file_path + '/rsem.bulk.pbmc2.h5ad')"
   ]
  },
  {
   "cell_type": "code",
   "execution_count": null,
   "metadata": {},
   "outputs": [],
   "source": []
  }
 ],
 "metadata": {
  "kernelspec": {
   "display_name": "Python 3",
   "language": "python",
   "name": "python3"
  },
  "language_info": {
   "codemirror_mode": {
    "name": "ipython",
    "version": 3
   },
   "file_extension": ".py",
   "mimetype": "text/x-python",
   "name": "python",
   "nbconvert_exporter": "python",
   "pygments_lexer": "ipython3",
   "version": "3.6.8"
  }
 },
 "nbformat": 4,
 "nbformat_minor": 2
}
