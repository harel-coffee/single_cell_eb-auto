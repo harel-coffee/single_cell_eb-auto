{
 "cells": [
  {
   "cell_type": "code",
   "execution_count": 1,
   "metadata": {},
   "outputs": [
    {
     "name": "stderr",
     "output_type": "stream",
     "text": [
      "/home/martin/anaconda3/lib/python3.6/site-packages/h5py/__init__.py:34: FutureWarning: Conversion of the second argument of issubdtype from `float` to `np.floating` is deprecated. In future, it will be treated as `np.float64 == np.dtype(float).type`.\n",
      "  from ._conv import register_converters as _register_converters\n"
     ]
    }
   ],
   "source": [
    "import numpy as np\n",
    "import scipy as sp\n",
    "import matplotlib.pyplot as plt\n",
    "import matplotlib.cm as cm\n",
    "import scanpy.api as sc\n",
    "import pandas as pd\n",
    "import h5py\n",
    "import os\n",
    "import time\n",
    "import itertools\n",
    "from sklearn.decomposition import PCA\n",
    "\n",
    "## Network\n",
    "from community import community_louvain\n",
    "import networkx as nx\n",
    "import matplotlib.pyplot as plt\n",
    "\n",
    "import scanpy.api as sc\n",
    "import sceb.data_loader as dl \n",
    "import sceb.scdd as sd\n",
    "import csv\n",
    "\n",
    "from sklearn.metrics import roc_curve\n",
    "\n",
    "%matplotlib inline\n",
    "%load_ext autoreload\n",
    "%autoreload 2"
   ]
  },
  {
   "cell_type": "code",
   "execution_count": 2,
   "metadata": {
    "collapsed": true
   },
   "outputs": [],
   "source": [
    "output_folder = '/home/martin/single_cell_eb/figures/figure_gene_network'\n",
    "if not os.path.exists(output_folder):\n",
    "    os.makedirs(output_folder)"
   ]
  },
  {
   "cell_type": "code",
   "execution_count": 3,
   "metadata": {},
   "outputs": [
    {
     "name": "stdout",
     "output_type": "stream",
     "text": [
      "Variable names are not unique. To make them unique, call `.var_names_make_unique`.\n",
      "## Nc=4340, G=19773, Nr=4349.04, Nr_bar=0.22\n",
      "#time start: 0.0s\n",
      "n_cell=4340, n_gene=19773\n",
      "#total: 0.28s\n",
      "791\n"
     ]
    }
   ],
   "source": [
    "## load the data \n",
    "data = dl.load_10x_4k()\n",
    "data.var_names_make_unique()\n",
    "sc.pp.filter_genes(data,min_counts=0.0001*data.shape[0])\n",
    "Nc,G,Nr,Nr_bar = sd.get_info(data)\n",
    "\n",
    "## filter and calculate PC\n",
    "size_factor = sd.dd_size_factor(data,verbose=False)\n",
    "M_ml,M_dd = sd.dd_1d_moment(data,size_factor=size_factor)\n",
    "var_dd = sd.M_to_var(M_dd)\n",
    "gene_list = np.array(data.var_names)[var_dd>0.1]\n",
    "print(len(gene_list))\n",
    "data = data[:,list(gene_list)]"
   ]
  },
  {
   "cell_type": "code",
   "execution_count": 4,
   "metadata": {},
   "outputs": [
    {
     "name": "stdout",
     "output_type": "stream",
     "text": [
      "#time start: 0.0s\n",
      "n_cell=4340, n_gene=791, Nr=3224.3\n",
      "#total: 3.38s\n",
      "#time start: 0.0s\n",
      "n_cell=4340, n_gene=791, Nr=3224.3\n",
      "#total: 3.18s\n"
     ]
    }
   ],
   "source": [
    "# calculate PC\n",
    "mean_ml,cov_ml,PC_ml  = sd.ml_covariance(data,size_factor=size_factor)\n",
    "mean_dd,cov_dd,PC_dd  = sd.dd_covariance(data,size_factor=size_factor,PC_prune=False)"
   ]
  },
  {
   "cell_type": "code",
   "execution_count": 76,
   "metadata": {
    "collapsed": true
   },
   "outputs": [],
   "source": [
    "# write the data \n",
    "def write_NET_csv(knn,gnames,outfile):\n",
    "    adj_csv = []\n",
    "    adj_csv= [['']+[i for i in gnames]]\n",
    "    for i in range(knn.shape[0]):\n",
    "        adj_csv+= [ [gnames[i]]+[j for j in knn[:,i]]  ]\n",
    "\n",
    "    myFile = open(outfile, 'w')\n",
    "    with myFile:\n",
    "        writer = csv.writer(myFile,delimiter=';')\n",
    "        writer.writerows(adj_csv)\n",
    "\n",
    "## write the network file\n",
    "fil=0.8\n",
    "outfile = output_folder + '/network_data.csv'\n",
    "temp = (PC_dd>0.8).astype(int)\n",
    "np.fill_diagonal(temp,0)\n",
    "write_NET_csv(temp,gene_list,outfile)"
   ]
  }
 ],
 "metadata": {
  "kernelspec": {
   "display_name": "Python 3",
   "language": "python",
   "name": "python3"
  },
  "language_info": {
   "codemirror_mode": {
    "name": "ipython",
    "version": 3
   },
   "file_extension": ".py",
   "mimetype": "text/x-python",
   "name": "python",
   "nbconvert_exporter": "python",
   "pygments_lexer": "ipython3",
   "version": "3.6.8"
  }
 },
 "nbformat": 4,
 "nbformat_minor": 2
}
